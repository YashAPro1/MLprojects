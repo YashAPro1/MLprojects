{
 "cells": [
  {
   "cell_type": "code",
   "execution_count": 1,
   "id": "cfad9c1d",
   "metadata": {},
   "outputs": [
    {
     "name": "stdout",
     "output_type": "stream",
     "text": [
      "Hello There!!\n"
     ]
    }
   ],
   "source": [
    "print(\"Hello There!!\")"
   ]
  },
  {
   "cell_type": "code",
   "execution_count": 2,
   "id": "ff51e9b4",
   "metadata": {},
   "outputs": [
    {
     "name": "stdout",
     "output_type": "stream",
     "text": [
      "Yo are ready to go\n"
     ]
    }
   ],
   "source": [
    "import pandas as pd\n",
    "import numpy as np\n",
    "import tensorflow as tf\n",
    "from matplotlib import pyplot as plt\n",
    "%matplotlib inline\n",
    "print(\"Yo are ready to go\")"
   ]
  },
  {
   "cell_type": "code",
   "execution_count": 3,
   "id": "5cd262bf",
   "metadata": {},
   "outputs": [
    {
     "data": {
      "text/html": [
       "<div>\n",
       "<style scoped>\n",
       "    .dataframe tbody tr th:only-of-type {\n",
       "        vertical-align: middle;\n",
       "    }\n",
       "\n",
       "    .dataframe tbody tr th {\n",
       "        vertical-align: top;\n",
       "    }\n",
       "\n",
       "    .dataframe thead th {\n",
       "        text-align: right;\n",
       "    }\n",
       "</style>\n",
       "<table border=\"1\" class=\"dataframe\">\n",
       "  <thead>\n",
       "    <tr style=\"text-align: right;\">\n",
       "      <th></th>\n",
       "      <th>area</th>\n",
       "      <th>bedrooms</th>\n",
       "      <th>price</th>\n",
       "    </tr>\n",
       "  </thead>\n",
       "  <tbody>\n",
       "    <tr>\n",
       "      <th>0</th>\n",
       "      <td>1056</td>\n",
       "      <td>2</td>\n",
       "      <td>39.07</td>\n",
       "    </tr>\n",
       "    <tr>\n",
       "      <th>1</th>\n",
       "      <td>2600</td>\n",
       "      <td>4</td>\n",
       "      <td>120.00</td>\n",
       "    </tr>\n",
       "    <tr>\n",
       "      <th>2</th>\n",
       "      <td>1440</td>\n",
       "      <td>3</td>\n",
       "      <td>62.00</td>\n",
       "    </tr>\n",
       "    <tr>\n",
       "      <th>3</th>\n",
       "      <td>1521</td>\n",
       "      <td>3</td>\n",
       "      <td>75.00</td>\n",
       "    </tr>\n",
       "    <tr>\n",
       "      <th>4</th>\n",
       "      <td>1200</td>\n",
       "      <td>2</td>\n",
       "      <td>51.00</td>\n",
       "    </tr>\n",
       "    <tr>\n",
       "      <th>5</th>\n",
       "      <td>1170</td>\n",
       "      <td>2</td>\n",
       "      <td>38.00</td>\n",
       "    </tr>\n",
       "    <tr>\n",
       "      <th>6</th>\n",
       "      <td>2732</td>\n",
       "      <td>4</td>\n",
       "      <td>135.00</td>\n",
       "    </tr>\n",
       "    <tr>\n",
       "      <th>7</th>\n",
       "      <td>3300</td>\n",
       "      <td>4</td>\n",
       "      <td>155.00</td>\n",
       "    </tr>\n",
       "    <tr>\n",
       "      <th>8</th>\n",
       "      <td>1310</td>\n",
       "      <td>3</td>\n",
       "      <td>50.00</td>\n",
       "    </tr>\n",
       "    <tr>\n",
       "      <th>9</th>\n",
       "      <td>3700</td>\n",
       "      <td>5</td>\n",
       "      <td>167.00</td>\n",
       "    </tr>\n",
       "    <tr>\n",
       "      <th>10</th>\n",
       "      <td>1800</td>\n",
       "      <td>3</td>\n",
       "      <td>82.00</td>\n",
       "    </tr>\n",
       "    <tr>\n",
       "      <th>11</th>\n",
       "      <td>2785</td>\n",
       "      <td>4</td>\n",
       "      <td>140.00</td>\n",
       "    </tr>\n",
       "    <tr>\n",
       "      <th>12</th>\n",
       "      <td>1000</td>\n",
       "      <td>2</td>\n",
       "      <td>38.00</td>\n",
       "    </tr>\n",
       "    <tr>\n",
       "      <th>13</th>\n",
       "      <td>1100</td>\n",
       "      <td>2</td>\n",
       "      <td>40.00</td>\n",
       "    </tr>\n",
       "    <tr>\n",
       "      <th>14</th>\n",
       "      <td>2250</td>\n",
       "      <td>3</td>\n",
       "      <td>101.00</td>\n",
       "    </tr>\n",
       "    <tr>\n",
       "      <th>15</th>\n",
       "      <td>1175</td>\n",
       "      <td>2</td>\n",
       "      <td>42.00</td>\n",
       "    </tr>\n",
       "    <tr>\n",
       "      <th>16</th>\n",
       "      <td>1180</td>\n",
       "      <td>3</td>\n",
       "      <td>48.00</td>\n",
       "    </tr>\n",
       "    <tr>\n",
       "      <th>17</th>\n",
       "      <td>1540</td>\n",
       "      <td>3</td>\n",
       "      <td>60.00</td>\n",
       "    </tr>\n",
       "    <tr>\n",
       "      <th>18</th>\n",
       "      <td>2770</td>\n",
       "      <td>3</td>\n",
       "      <td>102.00</td>\n",
       "    </tr>\n",
       "    <tr>\n",
       "      <th>19</th>\n",
       "      <td>800</td>\n",
       "      <td>1</td>\n",
       "      <td>32.00</td>\n",
       "    </tr>\n",
       "  </tbody>\n",
       "</table>\n",
       "</div>"
      ],
      "text/plain": [
       "    area  bedrooms   price\n",
       "0   1056         2   39.07\n",
       "1   2600         4  120.00\n",
       "2   1440         3   62.00\n",
       "3   1521         3   75.00\n",
       "4   1200         2   51.00\n",
       "5   1170         2   38.00\n",
       "6   2732         4  135.00\n",
       "7   3300         4  155.00\n",
       "8   1310         3   50.00\n",
       "9   3700         5  167.00\n",
       "10  1800         3   82.00\n",
       "11  2785         4  140.00\n",
       "12  1000         2   38.00\n",
       "13  1100         2   40.00\n",
       "14  2250         3  101.00\n",
       "15  1175         2   42.00\n",
       "16  1180         3   48.00\n",
       "17  1540         3   60.00\n",
       "18  2770         3  102.00\n",
       "19   800         1   32.00"
      ]
     },
     "execution_count": 3,
     "metadata": {},
     "output_type": "execute_result"
    }
   ],
   "source": [
    "df = pd.read_csv(\"homeprices_banglore.csv\")\n",
    "df"
   ]
  },
  {
   "cell_type": "code",
   "execution_count": 4,
   "id": "63da9b0b",
   "metadata": {},
   "outputs": [],
   "source": [
    "from sklearn.preprocessing import MinMaxScaler\n",
    "sx = MinMaxScaler()\n",
    "sy = MinMaxScaler()\n"
   ]
  },
  {
   "cell_type": "code",
   "execution_count": 5,
   "id": "19a1b88c",
   "metadata": {},
   "outputs": [],
   "source": [
    "x_scaled = sx.fit_transform(df.drop('price',axis=\"columns\"))\n"
   ]
  },
  {
   "cell_type": "code",
   "execution_count": 6,
   "id": "8d9f4fcd",
   "metadata": {},
   "outputs": [
    {
     "data": {
      "text/plain": [
       "array([[0.08827586, 0.25      ],\n",
       "       [0.62068966, 0.75      ],\n",
       "       [0.22068966, 0.5       ],\n",
       "       [0.24862069, 0.5       ],\n",
       "       [0.13793103, 0.25      ],\n",
       "       [0.12758621, 0.25      ],\n",
       "       [0.6662069 , 0.75      ],\n",
       "       [0.86206897, 0.75      ],\n",
       "       [0.17586207, 0.5       ],\n",
       "       [1.        , 1.        ],\n",
       "       [0.34482759, 0.5       ],\n",
       "       [0.68448276, 0.75      ],\n",
       "       [0.06896552, 0.25      ],\n",
       "       [0.10344828, 0.25      ],\n",
       "       [0.5       , 0.5       ],\n",
       "       [0.12931034, 0.25      ],\n",
       "       [0.13103448, 0.5       ],\n",
       "       [0.25517241, 0.5       ],\n",
       "       [0.67931034, 0.5       ],\n",
       "       [0.        , 0.        ]])"
      ]
     },
     "execution_count": 6,
     "metadata": {},
     "output_type": "execute_result"
    }
   ],
   "source": [
    "x_scaled"
   ]
  },
  {
   "cell_type": "code",
   "execution_count": 7,
   "id": "8ecb9fda",
   "metadata": {},
   "outputs": [],
   "source": [
    "y_scaled = sy.fit_transform(df.price.values.reshape(df.shape[0],1))"
   ]
  },
  {
   "cell_type": "code",
   "execution_count": 8,
   "id": "857802a1",
   "metadata": {},
   "outputs": [
    {
     "data": {
      "text/plain": [
       "array([[0.05237037],\n",
       "       [0.65185185],\n",
       "       [0.22222222],\n",
       "       [0.31851852],\n",
       "       [0.14074074],\n",
       "       [0.04444444],\n",
       "       [0.76296296],\n",
       "       [0.91111111],\n",
       "       [0.13333333],\n",
       "       [1.        ],\n",
       "       [0.37037037],\n",
       "       [0.8       ],\n",
       "       [0.04444444],\n",
       "       [0.05925926],\n",
       "       [0.51111111],\n",
       "       [0.07407407],\n",
       "       [0.11851852],\n",
       "       [0.20740741],\n",
       "       [0.51851852],\n",
       "       [0.        ]])"
      ]
     },
     "execution_count": 8,
     "metadata": {},
     "output_type": "execute_result"
    }
   ],
   "source": [
    "y_scaled"
   ]
  },
  {
   "cell_type": "code",
   "execution_count": 9,
   "id": "cc585630",
   "metadata": {},
   "outputs": [
    {
     "data": {
      "text/plain": [
       "(20, 2)"
      ]
     },
     "execution_count": 9,
     "metadata": {},
     "output_type": "execute_result"
    }
   ],
   "source": [
    "x_scaled.shape"
   ]
  },
  {
   "cell_type": "code",
   "execution_count": 10,
   "id": "98474ce7",
   "metadata": {},
   "outputs": [
    {
     "data": {
      "text/plain": [
       "array([1., 1.])"
      ]
     },
     "execution_count": 10,
     "metadata": {},
     "output_type": "execute_result"
    }
   ],
   "source": [
    "w = np.ones(shape=(2))\n",
    "w"
   ]
  },
  {
   "cell_type": "code",
   "execution_count": 11,
   "id": "dc78e786",
   "metadata": {},
   "outputs": [
    {
     "data": {
      "text/plain": [
       "array([[0.08827586, 0.62068966, 0.22068966, 0.24862069, 0.13793103,\n",
       "        0.12758621, 0.6662069 , 0.86206897, 0.17586207, 1.        ,\n",
       "        0.34482759, 0.68448276, 0.06896552, 0.10344828, 0.5       ,\n",
       "        0.12931034, 0.13103448, 0.25517241, 0.67931034, 0.        ],\n",
       "       [0.25      , 0.75      , 0.5       , 0.5       , 0.25      ,\n",
       "        0.25      , 0.75      , 0.75      , 0.5       , 1.        ,\n",
       "        0.5       , 0.75      , 0.25      , 0.25      , 0.5       ,\n",
       "        0.25      , 0.5       , 0.5       , 0.5       , 0.        ]])"
      ]
     },
     "execution_count": 11,
     "metadata": {},
     "output_type": "execute_result"
    }
   ],
   "source": [
    "x_scaled.T"
   ]
  },
  {
   "cell_type": "code",
   "execution_count": 12,
   "id": "bb2af627",
   "metadata": {},
   "outputs": [],
   "source": [
    "def batch_gradient_decent(X,y,epochs,learning_rate=0.01):\n",
    "    no_of_feature = X.shape[1]\n",
    "    w = np.ones(shape=(no_of_feature))\n",
    "    bias = 0\n",
    "    total_sample = X.shape[0]\n",
    "    cost_list = []\n",
    "    epoc_list = []\n",
    "    for i in range(epochs):\n",
    "        y_predicted = np.dot(w,X.T) + bias\n",
    "        \n",
    "        w_deri = -(2/total_sample)*(X.T.dot(y-y_predicted))\n",
    "        b_deri = -(2/total_sample)*np.sum(y-y_predicted)\n",
    "        \n",
    "        w = w - learning_rate*w_deri\n",
    "        bias = bias - learning_rate*b_deri\n",
    "        \n",
    "        cost = np.mean(np.square(y-y_predicted))\n",
    "        \n",
    "        if i%10 == 0:\n",
    "            cost_list.append(cost)\n",
    "            epoc_list.append(i)\n",
    "            \n",
    "    return w, bias, cost, cost_list,epoc_list\n",
    "        "
   ]
  },
  {
   "cell_type": "code",
   "execution_count": 13,
   "id": "78b74187",
   "metadata": {},
   "outputs": [],
   "source": [
    "w, bias, cost, cost_list,epoc_list = batch_gradient_decent(x_scaled,y_scaled.reshape(y_scaled.shape[0],),500)"
   ]
  },
  {
   "cell_type": "code",
   "execution_count": 14,
   "id": "a41dffc5",
   "metadata": {},
   "outputs": [
    {
     "data": {
      "text/plain": [
       "(array([0.70712464, 0.67456527]), -0.23034857438407427, 0.0068641890429808105)"
      ]
     },
     "execution_count": 14,
     "metadata": {},
     "output_type": "execute_result"
    }
   ],
   "source": [
    "w, bias, cost"
   ]
  },
  {
   "cell_type": "code",
   "execution_count": 15,
   "id": "105f3920",
   "metadata": {},
   "outputs": [
    {
     "data": {
      "text/plain": [
       "[<matplotlib.lines.Line2D at 0x2b00b79aee0>]"
      ]
     },
     "execution_count": 15,
     "metadata": {},
     "output_type": "execute_result"
    },
    {
     "data": {
      "image/png": "[encoded data removed]",
      "text/plain": [
       "<Figure size 640x480 with 1 Axes>"
      ]
     },
     "metadata": {},
     "output_type": "display_data"
    }
   ],
   "source": [
    "plt.xlabel('epochs')\n",
    "plt.ylabel('cost')\n",
    "plt.plot(epoc_list,cost_list)"
   ]
  },
  {
   "cell_type": "code",
   "execution_count": 16,
   "id": "75688859",
   "metadata": {},
   "outputs": [
    {
     "name": "stderr",
     "output_type": "stream",
     "text": [
      "C:\\Users\\Yashkumar Dubey\\anaconda3\\lib\\site-packages\\sklearn\\base.py:450: UserWarning: X does not have valid feature names, but MinMaxScaler was fitted with feature names\n",
      "  warnings.warn(\n"
     ]
    },
    {
     "data": {
      "text/plain": [
       "array([[0.4137931, 0.5      ]])"
      ]
     },
     "execution_count": 16,
     "metadata": {},
     "output_type": "execute_result"
    }
   ],
   "source": [
    "sx.transform([[2000,3]])"
   ]
  },
  {
   "cell_type": "code",
   "execution_count": 17,
   "id": "4fe4b0ec",
   "metadata": {},
   "outputs": [
    {
     "data": {
      "text/plain": [
       "0.6745652664894097"
      ]
     },
     "execution_count": 17,
     "metadata": {},
     "output_type": "execute_result"
    }
   ],
   "source": [
    "w[1]"
   ]
  },
  {
   "cell_type": "code",
   "execution_count": 20,
   "id": "8cbf22f8",
   "metadata": {},
   "outputs": [],
   "source": [
    "def predict(area,bedroom,w,b):\n",
    "    scaled_x = sx.transform([[area,bedroom]])\n",
    "    print(scaled_x)\n",
    "    scaled_y = w[0]*scaled_x[0][0] + w[1]*scaled_x[0][1] + b\n",
    "    scaled_y = sy.inverse_transform([[scaled_y]])\n",
    "    return scaled_y"
   ]
  },
  {
   "cell_type": "code",
   "execution_count": 25,
   "id": "8b8cd648",
   "metadata": {},
   "outputs": [
    {
     "name": "stdout",
     "output_type": "stream",
     "text": [
      "[[0.06896552 0.25      ]]\n"
     ]
    },
    {
     "name": "stderr",
     "output_type": "stream",
     "text": [
      "C:\\Users\\Yashkumar Dubey\\anaconda3\\lib\\site-packages\\sklearn\\base.py:450: UserWarning: X does not have valid feature names, but MinMaxScaler was fitted with feature names\n",
      "  warnings.warn(\n"
     ]
    },
    {
     "data": {
      "text/plain": [
       "array([[30.25309446]])"
      ]
     },
     "execution_count": 25,
     "metadata": {},
     "output_type": "execute_result"
    }
   ],
   "source": [
    "predict(1000,2,w,bias)"
   ]
  },
  {
   "cell_type": "code",
   "execution_count": null,
   "id": "b4f28265",
   "metadata": {},
   "outputs": [],
   "source": []
  },
  {
   "cell_type": "markdown",
   "id": "fc716e43",
   "metadata": {},
   "source": [
    "# Stochastic Gradient Decent"
   ]
  },
  {
   "cell_type": "code",
   "execution_count": 54,
   "id": "924e0146",
   "metadata": {},
   "outputs": [],
   "source": [
    "def stochastic_gradient_decent(X,y,epochs,learning_rate=0.01):\n",
    "    import random\n",
    "    no_of_feature = X.shape[1]\n",
    "    w = np.ones(shape=(no_of_feature))\n",
    "    bias = 0\n",
    "    total_sample = X.shape[0]\n",
    "    cost_list = []\n",
    "    epoc_list = []\n",
    "    for i in range(epochs):\n",
    "        random_index = random.randint(0,total_sample-1)\n",
    "        sample_x = X[random_index]\n",
    "        sample_y = y[random_index]\n",
    "        y_predicted = np.dot(w,sample_x.T) + bias\n",
    "        \n",
    "        w_deri = -(2/total_sample)*(sample_x.T.dot(sample_y-y_predicted))\n",
    "        b_deri = -(2/total_sample)*np.sum(sample_y-y_predicted)\n",
    "        \n",
    "        w = w - learning_rate*w_deri\n",
    "        bias = bias - learning_rate*b_deri\n",
    "        \n",
    "        cost = np.mean(np.square(sample_y-y_predicted))\n",
    "        \n",
    "        if i%100 == 0:\n",
    "            cost_list.append(cost)\n",
    "            epoc_list.append(i)\n",
    "            \n",
    "    return w, bias, cost, cost_list,epoc_list\n",
    "        "
   ]
  },
  {
   "cell_type": "code",
   "execution_count": 55,
   "id": "cd0ad41e",
   "metadata": {},
   "outputs": [],
   "source": [
    "w, bias, cost, cost_list,epoc_list = stochastic_gradient_decent(x_scaled,y_scaled.reshape(y_scaled.shape[0],),10000)"
   ]
  },
  {
   "cell_type": "code",
   "execution_count": 56,
   "id": "f5c10c55",
   "metadata": {},
   "outputs": [
    {
     "data": {
      "text/plain": [
       "(array([0.70867584, 0.67680052]), -0.22912823677433913, 0.05260490609460072)"
      ]
     },
     "execution_count": 56,
     "metadata": {},
     "output_type": "execute_result"
    }
   ],
   "source": [
    "w,bias,cost"
   ]
  },
  {
   "cell_type": "code",
   "execution_count": 57,
   "id": "1633f000",
   "metadata": {},
   "outputs": [],
   "source": [
    "def predicts(area,bedroom,w,b):\n",
    "    scaled_x = sx.transform([[area,bedroom]])\n",
    "    print(scaled_x)\n",
    "    scaled_y = w[0]*scaled_x[0][0] + w[1]*scaled_x[0][1] + b\n",
    "    scaled_y = sy.inverse_transform([[scaled_y]])\n",
    "    return scaled_y"
   ]
  },
  {
   "cell_type": "code",
   "execution_count": 58,
   "id": "24c797a4",
   "metadata": {},
   "outputs": [
    {
     "name": "stdout",
     "output_type": "stream",
     "text": [
      "[[0.24137931 0.25      ]]\n"
     ]
    },
    {
     "name": "stderr",
     "output_type": "stream",
     "text": [
      "C:\\Users\\Yashkumar Dubey\\anaconda3\\lib\\site-packages\\sklearn\\base.py:450: UserWarning: X does not have valid feature names, but MinMaxScaler was fitted with feature names\n",
      "  warnings.warn(\n"
     ]
    },
    {
     "data": {
      "text/plain": [
       "array([[47.00276293]])"
      ]
     },
     "execution_count": 58,
     "metadata": {},
     "output_type": "execute_result"
    }
   ],
   "source": [
    "predicts(1500,2,w,bias)"
   ]
  },
  {
   "cell_type": "code",
   "execution_count": 59,
   "id": "29d8a3b7",
   "metadata": {},
   "outputs": [],
   "source": [
    "#So it working preety good out there"
   ]
  },
  {
   "cell_type": "code",
   "execution_count": 60,
   "id": "69331ddb",
   "metadata": {},
   "outputs": [
    {
     "data": {
      "text/plain": [
       "[<matplotlib.lines.Line2D at 0x2b010846d90>]"
      ]
     },
     "execution_count": 60,
     "metadata": {},
     "output_type": "execute_result"
    },
    {
     "data": {
      "image/png": "[encoded data removed]",
      "text/plain": [
       "<Figure size 640x480 with 1 Axes>"
      ]
     },
     "metadata": {},
     "output_type": "display_data"
    }
   ],
   "source": [
    "plt.xlabel('epochs')\n",
    "plt.ylabel('cost')\n",
    "plt.plot(epoc_list,cost_list)"
   ]
  },
  {
   "cell_type": "code",
   "execution_count": 61,
   "id": "ba7162c4",
   "metadata": {},
   "outputs": [],
   "source": [
    "def mini_gradient_decent(X,y,epochs,learning_rate=0.01):\n",
    "    import random\n",
    "    no_of_feature = X.shape[1]\n",
    "    w = np.ones(shape=(no_of_feature))\n",
    "    bias = 0\n",
    "    total_sample = X.shape[0]\n",
    "    cost_list = []\n",
    "    epoc_list = []\n",
    "    for i in range(epochs):\n",
    "        random_index = random.randint(0,total_sample-1)\n",
    "        sample_x = X[random_index:random_index+20]\n",
    "        sample_y = y[random_index:random_index+20]\n",
    "        y_predicted = np.dot(w,sample_x.T) + bias\n",
    "        \n",
    "        w_deri = -(2/total_sample)*(sample_x.T.dot(sample_y-y_predicted))\n",
    "        b_deri = -(2/total_sample)*np.sum(sample_y-y_predicted)\n",
    "        \n",
    "        w = w - learning_rate*w_deri\n",
    "        bias = bias - learning_rate*b_deri\n",
    "        \n",
    "        cost = np.mean(np.square(sample_y-y_predicted))\n",
    "        \n",
    "        if i%100 == 0:\n",
    "            cost_list.append(cost)\n",
    "            epoc_list.append(i)\n",
    "            \n",
    "    return w, bias, cost, cost_list,epoc_list\n",
    "        "
   ]
  },
  {
   "cell_type": "code",
   "execution_count": 62,
   "id": "89516e6f",
   "metadata": {},
   "outputs": [],
   "source": [
    "w, bias, cost, cost_list,epoc_list = mini_gradient_decent(x_scaled,y_scaled.reshape(y_scaled.shape[0],),10000)"
   ]
  },
  {
   "cell_type": "code",
   "execution_count": 63,
   "id": "dc2854a3",
   "metadata": {},
   "outputs": [
    {
     "data": {
      "text/plain": [
       "array([0.77319067, 0.34888038])"
      ]
     },
     "execution_count": 63,
     "metadata": {},
     "output_type": "execute_result"
    }
   ],
   "source": [
    "w"
   ]
  },
  {
   "cell_type": "code",
   "execution_count": 64,
   "id": "24829b5c",
   "metadata": {},
   "outputs": [
    {
     "data": {
      "text/plain": [
       "-0.09555681735850438"
      ]
     },
     "execution_count": 64,
     "metadata": {},
     "output_type": "execute_result"
    }
   ],
   "source": [
    "bias"
   ]
  },
  {
   "cell_type": "code",
   "execution_count": 65,
   "id": "3b775f5b",
   "metadata": {},
   "outputs": [
    {
     "data": {
      "text/plain": [
       "0.00707293620219106"
      ]
     },
     "execution_count": 65,
     "metadata": {},
     "output_type": "execute_result"
    }
   ],
   "source": [
    "cost"
   ]
  },
  {
   "cell_type": "code",
   "execution_count": 66,
   "id": "2e0daca1",
   "metadata": {},
   "outputs": [
    {
     "data": {
      "text/plain": [
       "[<matplotlib.lines.Line2D at 0x2b01099ba60>]"
      ]
     },
     "execution_count": 66,
     "metadata": {},
     "output_type": "execute_result"
    },
    {
     "data": {
      "image/png": "[encoded data removed]",
      "text/plain": [
       "<Figure size 640x480 with 1 Axes>"
      ]
     },
     "metadata": {},
     "output_type": "display_data"
    }
   ],
   "source": [
    "plt.xlabel('epochs')\n",
    "plt.ylabel('cost')\n",
    "plt.plot(epoc_list,cost_list)"
   ]
  },
  {
   "cell_type": "code",
   "execution_count": 67,
   "id": "5cfa7614",
   "metadata": {},
   "outputs": [],
   "source": [
    "def predictm(area,bedroom,w,b):\n",
    "    scaled_x = sx.transform([[area,bedroom]])\n",
    "    print(scaled_x)\n",
    "    scaled_y = w[0]*scaled_x[0][0] + w[1]*scaled_x[0][1] + b\n",
    "    scaled_y = sy.inverse_transform([[scaled_y]])\n",
    "    return scaled_y"
   ]
  },
  {
   "cell_type": "code",
   "execution_count": 68,
   "id": "86faefea",
   "metadata": {},
   "outputs": [
    {
     "name": "stdout",
     "output_type": "stream",
     "text": [
      "[[0.24137931 0.25      ]]\n"
     ]
    },
    {
     "name": "stderr",
     "output_type": "stream",
     "text": [
      "C:\\Users\\Yashkumar Dubey\\anaconda3\\lib\\site-packages\\sklearn\\base.py:450: UserWarning: X does not have valid feature names, but MinMaxScaler was fitted with feature names\n",
      "  warnings.warn(\n"
     ]
    },
    {
     "data": {
      "text/plain": [
       "array([[56.06989372]])"
      ]
     },
     "execution_count": 68,
     "metadata": {},
     "output_type": "execute_result"
    }
   ],
   "source": [
    "predicts(1500,2,w,bias)"
   ]
  },
  {
   "cell_type": "code",
   "execution_count": null,
   "id": "c6ed1047",
   "metadata": {},
   "outputs": [],
   "source": []
  }
 ],
 "metadata": {
  "kernelspec": {
   "display_name": "Python 3 (ipykernel)",
   "language": "python",
   "name": "python3"
  },
  "language_info": {
   "codemirror_mode": {
    "name": "ipython",
    "version": 3
   },
   "file_extension": ".py",
   "mimetype": "text/x-python",
   "name": "python",
   "nbconvert_exporter": "python",
   "pygments_lexer": "ipython3",
   "version": "3.9.13"
  }
 },
 "nbformat": 4,
 "nbformat_minor": 5
}
