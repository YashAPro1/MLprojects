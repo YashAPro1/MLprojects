{
 "cells": [
  {
   "cell_type": "code",
   "execution_count": 2,
   "id": "cb90e7c5",
   "metadata": {},
   "outputs": [
    {
     "name": "stdout",
     "output_type": "stream",
     "text": [
      "hello there!!\n"
     ]
    }
   ],
   "source": [
    "print('hello there!!')"
   ]
  },
  {
   "cell_type": "code",
   "execution_count": 4,
   "id": "c46c9119",
   "metadata": {},
   "outputs": [
    {
     "name": "stdout",
     "output_type": "stream",
     "text": [
      "Collecting pandas_datareader\n",
      "  Downloading pandas_datareader-0.10.0-py3-none-any.whl (109 kB)\n",
      "     -------------------------------------- 109.5/109.5 kB 6.2 MB/s eta 0:00:00\n",
      "Requirement already satisfied: requests>=2.19.0 in c:\\users\\yashkumar dubey\\anaconda3\\lib\\site-packages (from pandas_datareader) (2.28.1)\n",
      "Requirement already satisfied: pandas>=0.23 in c:\\users\\yashkumar dubey\\anaconda3\\lib\\site-packages (from pandas_datareader) (1.4.4)\n",
      "Requirement already satisfied: lxml in c:\\users\\yashkumar dubey\\anaconda3\\lib\\site-packages (from pandas_datareader) (4.9.1)\n",
      "Requirement already satisfied: numpy>=1.18.5 in c:\\users\\yashkumar dubey\\anaconda3\\lib\\site-packages (from pandas>=0.23->pandas_datareader) (1.23.5)\n",
      "Requirement already satisfied: python-dateutil>=2.8.1 in c:\\users\\yashkumar dubey\\anaconda3\\lib\\site-packages (from pandas>=0.23->pandas_datareader) (2.8.2)\n",
      "Requirement already satisfied: pytz>=2020.1 in c:\\users\\yashkumar dubey\\anaconda3\\lib\\site-packages (from pandas>=0.23->pandas_datareader) (2022.1)\n",
      "Requirement already satisfied: idna<4,>=2.5 in c:\\users\\yashkumar dubey\\anaconda3\\lib\\site-packages (from requests>=2.19.0->pandas_datareader) (3.3)\n",
      "Requirement already satisfied: charset-normalizer<3,>=2 in c:\\users\\yashkumar dubey\\anaconda3\\lib\\site-packages (from requests>=2.19.0->pandas_datareader) (2.0.4)\n",
      "Requirement already satisfied: urllib3<1.27,>=1.21.1 in c:\\users\\yashkumar dubey\\anaconda3\\lib\\site-packages (from requests>=2.19.0->pandas_datareader) (1.26.11)\n",
      "Requirement already satisfied: certifi>=2017.4.17 in c:\\users\\yashkumar dubey\\anaconda3\\lib\\site-packages (from requests>=2.19.0->pandas_datareader) (2022.9.14)\n",
      "Requirement already satisfied: six>=1.5 in c:\\users\\yashkumar dubey\\anaconda3\\lib\\site-packages (from python-dateutil>=2.8.1->pandas>=0.23->pandas_datareader) (1.16.0)\n",
      "Installing collected packages: pandas_datareader\n",
      "Successfully installed pandas_datareader-0.10.0\n"
     ]
    }
   ],
   "source": [
    "!pip install pandas_datareader"
   ]
  },
  {
   "cell_type": "code",
   "execution_count": 5,
   "id": "d2f04237",
   "metadata": {},
   "outputs": [],
   "source": [
    "import pandas_datareader as pdr"
   ]
  },
  {
   "cell_type": "code",
   "execution_count": 9,
   "id": "0e5ab88a",
   "metadata": {},
   "outputs": [
    {
     "name": "stderr",
     "output_type": "stream",
     "text": [
      "C:\\Users\\Yashkumar Dubey\\anaconda3\\lib\\site-packages\\pandas_datareader\\tiingo.py:234: FutureWarning: In a future version of pandas all arguments of concat except for the argument 'objs' will be keyword-only.\n",
      "  return pd.concat(dfs, self._concat_axis)\n"
     ]
    }
   ],
   "source": [
    "df = pdr.get_data_tiingo('GOOGL',api_key = key)"
   ]
  },
  {
   "cell_type": "code",
   "execution_count": 11,
   "id": "6cc2ba19",
   "metadata": {},
   "outputs": [],
   "source": [
    "df.to_csv(\"GOOGL.csv\")"
   ]
  },
  {
   "cell_type": "code",
   "execution_count": 13,
   "id": "bb22d312",
   "metadata": {},
   "outputs": [],
   "source": [
    "import pandas as pd"
   ]
  },
  {
   "cell_type": "code",
   "execution_count": 14,
   "id": "25e69505",
   "metadata": {},
   "outputs": [],
   "source": [
    "df1 = pd.read_csv('GOOGL.csv')"
   ]
  },
  {
   "cell_type": "code",
   "execution_count": 15,
   "id": "976fc586",
   "metadata": {},
   "outputs": [
    {
     "data": {
      "text/html": [
       "<div>\n",
       "<style scoped>\n",
       "    .dataframe tbody tr th:only-of-type {\n",
       "        vertical-align: middle;\n",
       "    }\n",
       "\n",
       "    .dataframe tbody tr th {\n",
       "        vertical-align: top;\n",
       "    }\n",
       "\n",
       "    .dataframe thead th {\n",
       "        text-align: right;\n",
       "    }\n",
       "</style>\n",
       "<table border=\"1\" class=\"dataframe\">\n",
       "  <thead>\n",
       "    <tr style=\"text-align: right;\">\n",
       "      <th></th>\n",
       "      <th>symbol</th>\n",
       "      <th>date</th>\n",
       "      <th>close</th>\n",
       "      <th>high</th>\n",
       "      <th>low</th>\n",
       "      <th>open</th>\n",
       "      <th>volume</th>\n",
       "      <th>adjClose</th>\n",
       "      <th>adjHigh</th>\n",
       "      <th>adjLow</th>\n",
       "      <th>adjOpen</th>\n",
       "      <th>adjVolume</th>\n",
       "      <th>divCash</th>\n",
       "      <th>splitFactor</th>\n",
       "    </tr>\n",
       "  </thead>\n",
       "  <tbody>\n",
       "    <tr>\n",
       "      <th>0</th>\n",
       "      <td>GOOGL</td>\n",
       "      <td>2018-07-23 00:00:00+00:00</td>\n",
       "      <td>1211.00</td>\n",
       "      <td>1215.10</td>\n",
       "      <td>1192.01</td>\n",
       "      <td>1195.66</td>\n",
       "      <td>3272304</td>\n",
       "      <td>60.5500</td>\n",
       "      <td>60.755</td>\n",
       "      <td>59.6005</td>\n",
       "      <td>59.783</td>\n",
       "      <td>65446080</td>\n",
       "      <td>0.0</td>\n",
       "      <td>1.0</td>\n",
       "    </tr>\n",
       "    <tr>\n",
       "      <th>1</th>\n",
       "      <td>GOOGL</td>\n",
       "      <td>2018-07-24 00:00:00+00:00</td>\n",
       "      <td>1258.15</td>\n",
       "      <td>1275.00</td>\n",
       "      <td>1244.14</td>\n",
       "      <td>1271.00</td>\n",
       "      <td>5380032</td>\n",
       "      <td>62.9075</td>\n",
       "      <td>63.750</td>\n",
       "      <td>62.2070</td>\n",
       "      <td>63.550</td>\n",
       "      <td>107600640</td>\n",
       "      <td>0.0</td>\n",
       "      <td>1.0</td>\n",
       "    </tr>\n",
       "    <tr>\n",
       "      <th>2</th>\n",
       "      <td>GOOGL</td>\n",
       "      <td>2018-07-25 00:00:00+00:00</td>\n",
       "      <td>1275.94</td>\n",
       "      <td>1278.24</td>\n",
       "      <td>1249.05</td>\n",
       "      <td>1252.62</td>\n",
       "      <td>2575437</td>\n",
       "      <td>63.7970</td>\n",
       "      <td>63.912</td>\n",
       "      <td>62.4525</td>\n",
       "      <td>62.631</td>\n",
       "      <td>51508740</td>\n",
       "      <td>0.0</td>\n",
       "      <td>1.0</td>\n",
       "    </tr>\n",
       "    <tr>\n",
       "      <th>3</th>\n",
       "      <td>GOOGL</td>\n",
       "      <td>2018-07-26 00:00:00+00:00</td>\n",
       "      <td>1285.50</td>\n",
       "      <td>1287.40</td>\n",
       "      <td>1263.00</td>\n",
       "      <td>1267.18</td>\n",
       "      <td>2734302</td>\n",
       "      <td>64.2750</td>\n",
       "      <td>64.370</td>\n",
       "      <td>63.1500</td>\n",
       "      <td>63.359</td>\n",
       "      <td>54686040</td>\n",
       "      <td>0.0</td>\n",
       "      <td>1.0</td>\n",
       "    </tr>\n",
       "    <tr>\n",
       "      <th>4</th>\n",
       "      <td>GOOGL</td>\n",
       "      <td>2018-07-27 00:00:00+00:00</td>\n",
       "      <td>1252.89</td>\n",
       "      <td>1291.44</td>\n",
       "      <td>1244.49</td>\n",
       "      <td>1289.12</td>\n",
       "      <td>2418090</td>\n",
       "      <td>62.6445</td>\n",
       "      <td>64.572</td>\n",
       "      <td>62.2245</td>\n",
       "      <td>64.456</td>\n",
       "      <td>48361800</td>\n",
       "      <td>0.0</td>\n",
       "      <td>1.0</td>\n",
       "    </tr>\n",
       "  </tbody>\n",
       "</table>\n",
       "</div>"
      ],
      "text/plain": [
       "  symbol                       date    close     high      low     open  \\\n",
       "0  GOOGL  2018-07-23 00:00:00+00:00  1211.00  1215.10  1192.01  1195.66   \n",
       "1  GOOGL  2018-07-24 00:00:00+00:00  1258.15  1275.00  1244.14  1271.00   \n",
       "2  GOOGL  2018-07-25 00:00:00+00:00  1275.94  1278.24  1249.05  1252.62   \n",
       "3  GOOGL  2018-07-26 00:00:00+00:00  1285.50  1287.40  1263.00  1267.18   \n",
       "4  GOOGL  2018-07-27 00:00:00+00:00  1252.89  1291.44  1244.49  1289.12   \n",
       "\n",
       "    volume  adjClose  adjHigh   adjLow  adjOpen  adjVolume  divCash  \\\n",
       "0  3272304   60.5500   60.755  59.6005   59.783   65446080      0.0   \n",
       "1  5380032   62.9075   63.750  62.2070   63.550  107600640      0.0   \n",
       "2  2575437   63.7970   63.912  62.4525   62.631   51508740      0.0   \n",
       "3  2734302   64.2750   64.370  63.1500   63.359   54686040      0.0   \n",
       "4  2418090   62.6445   64.572  62.2245   64.456   48361800      0.0   \n",
       "\n",
       "   splitFactor  \n",
       "0          1.0  \n",
       "1          1.0  \n",
       "2          1.0  \n",
       "3          1.0  \n",
       "4          1.0  "
      ]
     },
     "execution_count": 15,
     "metadata": {},
     "output_type": "execute_result"
    }
   ],
   "source": [
    "df1.head()"
   ]
  },
  {
   "cell_type": "code",
   "execution_count": 17,
   "id": "9f19867e",
   "metadata": {},
   "outputs": [],
   "source": [
    "df2 = df1.dropna()"
   ]
  },
  {
   "cell_type": "code",
   "execution_count": 22,
   "id": "8951eab0",
   "metadata": {},
   "outputs": [],
   "source": [
    "df3 = df2.reset_index()['close']"
   ]
  },
  {
   "cell_type": "code",
   "execution_count": 23,
   "id": "09ac9f3e",
   "metadata": {},
   "outputs": [
    {
     "data": {
      "text/plain": [
       "(1258,)"
      ]
     },
     "execution_count": 23,
     "metadata": {},
     "output_type": "execute_result"
    }
   ],
   "source": [
    "df3.shape"
   ]
  },
  {
   "cell_type": "code",
   "execution_count": 24,
   "id": "876190f9",
   "metadata": {},
   "outputs": [
    {
     "data": {
      "text/plain": [
       "[<matplotlib.lines.Line2D at 0x2199dc6f370>]"
      ]
     },
     "execution_count": 24,
     "metadata": {},
     "output_type": "execute_result"
    },
    {
     "data": {
      "image/png": "[encoded data removed]",
      "text/plain": [
       "<Figure size 640x480 with 1 Axes>"
      ]
     },
     "metadata": {},
     "output_type": "display_data"
    }
   ],
   "source": [
    "import matplotlib.pyplot as plt\n",
    "plt.plot(df3)"
   ]
  },
  {
   "cell_type": "code",
   "execution_count": 25,
   "id": "d597b2b2",
   "metadata": {},
   "outputs": [],
   "source": [
    "import numpy as np\n",
    "from sklearn.preprocessing import MinMaxScaler\n",
    "scaler = MinMaxScaler(feature_range=(0,1))\n",
    "df4 = scaler.fit_transform(np.array(df3).reshape(-1,1))"
   ]
  },
  {
   "cell_type": "code",
   "execution_count": 29,
   "id": "da6157c5",
   "metadata": {},
   "outputs": [
    {
     "data": {
      "text/plain": [
       "(1258, 1)"
      ]
     },
     "execution_count": 29,
     "metadata": {},
     "output_type": "execute_result"
    }
   ],
   "source": [
    "df4.shape"
   ]
  },
  {
   "cell_type": "code",
   "execution_count": 30,
   "id": "e575b92e",
   "metadata": {},
   "outputs": [],
   "source": [
    "t_size = int((0.60)*len(df3))\n",
    "test_size = len(df3) - t_size\n",
    "train_data,test_data = df4[:t_size,:],df4[t_size:len(df4),:1]"
   ]
  },
  {
   "cell_type": "code",
   "execution_count": 31,
   "id": "741099b1",
   "metadata": {},
   "outputs": [],
   "source": [
    "def create_datasets(dataset,time_step):\n",
    "    dataX,dataY = [], []\n",
    "    for i in range(len(dataset)-time_step-1):\n",
    "        a = dataset[i:(i+time_step),0]\n",
    "        dataX.append(a)\n",
    "        dataY.append(dataset[i+time_step,0])\n",
    "        \n",
    "    return np.array(dataX),np.array(dataY)"
   ]
  },
  {
   "cell_type": "code",
   "execution_count": 32,
   "id": "cf02c771",
   "metadata": {},
   "outputs": [],
   "source": [
    "time_step = 100\n",
    "x_train,y_train = create_datasets(train_data,time_step)\n",
    "x_test,y_test = create_datasets(test_data,time_step)"
   ]
  },
  {
   "cell_type": "code",
   "execution_count": 34,
   "id": "d0b3bf71",
   "metadata": {},
   "outputs": [],
   "source": [
    "x_train = x_train.reshape(x_train.shape[0],x_train.shape[1],1)\n",
    "x_test = x_test.reshape(x_test.shape[0],x_test.shape[1],1)"
   ]
  },
  {
   "cell_type": "code",
   "execution_count": 35,
   "id": "645d3d3d",
   "metadata": {},
   "outputs": [
    {
     "data": {
      "text/plain": [
       "(653, 100, 1)"
      ]
     },
     "execution_count": 35,
     "metadata": {},
     "output_type": "execute_result"
    }
   ],
   "source": [
    "x_train.shape"
   ]
  },
  {
   "cell_type": "code",
   "execution_count": 36,
   "id": "9ed94794",
   "metadata": {},
   "outputs": [],
   "source": [
    "from tensorflow.keras.models import Sequential\n",
    "from tensorflow.keras.layers import Dense\n",
    "from tensorflow.keras.layers import LSTM"
   ]
  },
  {
   "cell_type": "code",
   "execution_count": 41,
   "id": "4f11d0be",
   "metadata": {},
   "outputs": [],
   "source": [
    "model = Sequential()\n",
    "model.add(LSTM(150,return_sequences = True,input_shape=(100,1)))\n",
    "model.add(LSTM(100,return_sequences = True))\n",
    "model.add(LSTM(15))\n",
    "model.add(Dense(1))\n",
    "model.compile(loss='mean_squared_error',optimizer='adam')"
   ]
  },
  {
   "cell_type": "code",
   "execution_count": 42,
   "id": "e404df5a",
   "metadata": {},
   "outputs": [
    {
     "name": "stdout",
     "output_type": "stream",
     "text": [
      "Model: \"sequential_2\"\n",
      "_________________________________________________________________\n",
      " Layer (type)                Output Shape              Param #   \n",
      "=================================================================\n",
      " lstm_5 (LSTM)               (None, 100, 150)          91200     \n",
      "                                                                 \n",
      " lstm_6 (LSTM)               (None, 100, 100)          100400    \n",
      "                                                                 \n",
      " lstm_7 (LSTM)               (None, 15)                6960      \n",
      "                                                                 \n",
      " dense_1 (Dense)             (None, 1)                 16        \n",
      "                                                                 \n",
      "=================================================================\n",
      "Total params: 198,576\n",
      "Trainable params: 198,576\n",
      "Non-trainable params: 0\n",
      "_________________________________________________________________\n"
     ]
    }
   ],
   "source": [
    "model.summary()"
   ]
  },
  {
   "cell_type": "code",
   "execution_count": 43,
   "id": "0d103a20",
   "metadata": {},
   "outputs": [
    {
     "name": "stdout",
     "output_type": "stream",
     "text": [
      "Epoch 1/10\n",
      "11/11 [==============================] - 9s 506ms/step - loss: 0.0623 - val_loss: 0.0457\n",
      "Epoch 2/10\n",
      "11/11 [==============================] - 5s 427ms/step - loss: 0.0094 - val_loss: 0.0261\n",
      "Epoch 3/10\n",
      "11/11 [==============================] - 5s 446ms/step - loss: 0.0044 - val_loss: 0.0190\n",
      "Epoch 4/10\n",
      "11/11 [==============================] - 5s 449ms/step - loss: 0.0023 - val_loss: 0.0129\n",
      "Epoch 5/10\n",
      "11/11 [==============================] - 5s 457ms/step - loss: 8.6643e-04 - val_loss: 0.0110\n",
      "Epoch 6/10\n",
      "11/11 [==============================] - 5s 415ms/step - loss: 5.1945e-04 - val_loss: 0.0115\n",
      "Epoch 7/10\n",
      "11/11 [==============================] - 5s 441ms/step - loss: 5.5532e-04 - val_loss: 0.0113\n",
      "Epoch 8/10\n",
      "11/11 [==============================] - 5s 441ms/step - loss: 5.3636e-04 - val_loss: 0.0123\n",
      "Epoch 9/10\n",
      "11/11 [==============================] - 4s 394ms/step - loss: 6.4817e-04 - val_loss: 0.0109\n",
      "Epoch 10/10\n",
      "11/11 [==============================] - 5s 446ms/step - loss: 4.9937e-04 - val_loss: 0.0105\n"
     ]
    },
    {
     "data": {
      "text/plain": [
       "<keras.callbacks.History at 0x219aeaa6400>"
      ]
     },
     "execution_count": 43,
     "metadata": {},
     "output_type": "execute_result"
    }
   ],
   "source": [
    "model.fit(x_train,y_train,validation_data=(x_test,y_test),epochs=10,batch_size=64,verbose=1)"
   ]
  },
  {
   "cell_type": "code",
   "execution_count": 44,
   "id": "137e343f",
   "metadata": {},
   "outputs": [],
   "source": [
    "import tensorflow as tf"
   ]
  },
  {
   "cell_type": "code",
   "execution_count": 45,
   "id": "3ef52774",
   "metadata": {},
   "outputs": [
    {
     "name": "stdout",
     "output_type": "stream",
     "text": [
      "21/21 [==============================] - 2s 82ms/step\n",
      "13/13 [==============================] - 1s 72ms/step\n"
     ]
    }
   ],
   "source": [
    "train_predict = model.predict(x_train)\n",
    "test_predict = model.predict(x_test)"
   ]
  },
  {
   "cell_type": "code",
   "execution_count": 46,
   "id": "cfeed1b6",
   "metadata": {},
   "outputs": [],
   "source": [
    "train_predict = scaler.inverse_transform(train_predict)\n",
    "test_predict = scaler.inverse_transform(test_predict)"
   ]
  },
  {
   "cell_type": "code",
   "execution_count": 52,
   "id": "61d6c757",
   "metadata": {},
   "outputs": [
    {
     "data": {
      "image/png": "[encoded data removed]",
      "text/plain": [
       "<Figure size 640x480 with 1 Axes>"
      ]
     },
     "metadata": {},
     "output_type": "display_data"
    }
   ],
   "source": [
    "look_back=100\n",
    "trainPredictPlot = np.empty_like(df4)\n",
    "trainPredictPlot[:, :] = np.nan\n",
    "trainPredictPlot[look_back:len(train_predict)+look_back, :] = train_predict\n",
    "# shift test predictions for plotting\n",
    "testPredictPlot = np.empty_like(df4)\n",
    "testPredictPlot[:, :] = np.nan\n",
    "testPredictPlot[len(train_predict)+(look_back*2)+1:len(df4)-1, :] = test_predict\n",
    "# plot baseline and predictions\n",
    "plt.plot(scaler.inverse_transform(df4))\n",
    "plt.plot(trainPredictPlot)\n",
    "plt.plot(testPredictPlot)\n",
    "plt.show()"
   ]
  },
  {
   "cell_type": "code",
   "execution_count": 62,
   "id": "a4bf0724",
   "metadata": {},
   "outputs": [
    {
     "data": {
      "text/plain": [
       "(504, 1)"
      ]
     },
     "execution_count": 62,
     "metadata": {},
     "output_type": "execute_result"
    }
   ],
   "source": [
    "test_data.shape"
   ]
  },
  {
   "cell_type": "code",
   "execution_count": 63,
   "id": "88616366",
   "metadata": {},
   "outputs": [
    {
     "data": {
      "text/plain": [
       "(1, 100)"
      ]
     },
     "execution_count": 63,
     "metadata": {},
     "output_type": "execute_result"
    }
   ],
   "source": [
    "xinput=test_data[404:].reshape(1,-1)\n",
    "xinput.shape"
   ]
  },
  {
   "cell_type": "code",
   "execution_count": 64,
   "id": "91f2e9eb",
   "metadata": {},
   "outputs": [],
   "source": [
    "temp_input=list(xinput)\n",
    "temp_input=temp_input[0].tolist()"
   ]
  },
  {
   "cell_type": "code",
   "execution_count": 65,
   "id": "dcb0543e",
   "metadata": {},
   "outputs": [
    {
     "name": "stdout",
     "output_type": "stream",
     "text": [
      "[0.0193941]\n",
      "101\n",
      "1 day input [0.00237871 0.00294164 0.003508   0.00401601 0.00358008 0.00371395\n",
      " 0.00305148 0.00247139 0.00263615 0.00361784 0.00435239 0.00579747\n",
      " 0.00624369 0.00610639 0.00737641 0.00684438 0.00760982 0.0075549\n",
      " 0.00653202 0.00604118 0.00616475 0.00599312 0.00696795 0.00718419\n",
      " 0.00730776 0.00722195 0.00857778 0.00789815 0.00752401 0.0072803\n",
      " 0.00823797 0.00873225 0.00773682 0.00723225 0.00712241 0.00750342\n",
      " 0.00754461 0.00773682 0.00700914 0.00696108 0.00829289 0.00820708\n",
      " 0.00815902 0.00751371 0.00754461 0.00729747 0.00759952 0.00835467\n",
      " 0.00821051 0.0097208  0.01137526 0.01169791 0.01135467 0.01238441\n",
      " 0.01284093 0.013524   0.01349997 0.01428601 0.01343132 0.01286153\n",
      " 0.01374711 0.01413498 0.01381233 0.01353773 0.01382949 0.01415557\n",
      " 0.01461553 0.01506175 0.01341072 0.01328715 0.01331805 0.01380203\n",
      " 0.01386725 0.01381233 0.01429974 0.01376427 0.01361667 0.01274139\n",
      " 0.01363384 0.0133558  0.01198281 0.01197938 0.01261439 0.01224368\n",
      " 0.01244963 0.01251828 0.01315329 0.01259036 0.01237411 0.01133407\n",
      " 0.01157091 0.01218533 0.01411095 0.01441301 0.01414871 0.01384322\n",
      " 0.0132494  0.012278   0.01255947 0.0193941 ]\n",
      "1 day output [[0.01950739]]\n",
      "2 day input [0.00294164 0.003508   0.00401601 0.00358008 0.00371395 0.00305148\n",
      " 0.00247139 0.00263615 0.00361784 0.00435239 0.00579747 0.00624369\n",
      " 0.00610639 0.00737641 0.00684438 0.00760982 0.0075549  0.00653202\n",
      " 0.00604118 0.00616475 0.00599312 0.00696795 0.00718419 0.00730776\n",
      " 0.00722195 0.00857778 0.00789815 0.00752401 0.0072803  0.00823797\n",
      " 0.00873225 0.00773682 0.00723225 0.00712241 0.00750342 0.00754461\n",
      " 0.00773682 0.00700914 0.00696108 0.00829289 0.00820708 0.00815902\n",
      " 0.00751371 0.00754461 0.00729747 0.00759952 0.00835467 0.00821051\n",
      " 0.0097208  0.01137526 0.01169791 0.01135467 0.01238441 0.01284093\n",
      " 0.013524   0.01349997 0.01428601 0.01343132 0.01286153 0.01374711\n",
      " 0.01413498 0.01381233 0.01353773 0.01382949 0.01415557 0.01461553\n",
      " 0.01506175 0.01341072 0.01328715 0.01331805 0.01380203 0.01386725\n",
      " 0.01381233 0.01429974 0.01376427 0.01361667 0.01274139 0.01363384\n",
      " 0.0133558  0.01198281 0.01197938 0.01261439 0.01224368 0.01244963\n",
      " 0.01251828 0.01315329 0.01259036 0.01237411 0.01133407 0.01157091\n",
      " 0.01218533 0.01411095 0.01441301 0.01414871 0.01384322 0.0132494\n",
      " 0.012278   0.01255947 0.0193941  0.01950739]\n",
      "2 day output [[0.01970907]]\n",
      "3 day input [0.003508   0.00401601 0.00358008 0.00371395 0.00305148 0.00247139\n",
      " 0.00263615 0.00361784 0.00435239 0.00579747 0.00624369 0.00610639\n",
      " 0.00737641 0.00684438 0.00760982 0.0075549  0.00653202 0.00604118\n",
      " 0.00616475 0.00599312 0.00696795 0.00718419 0.00730776 0.00722195\n",
      " 0.00857778 0.00789815 0.00752401 0.0072803  0.00823797 0.00873225\n",
      " 0.00773682 0.00723225 0.00712241 0.00750342 0.00754461 0.00773682\n",
      " 0.00700914 0.00696108 0.00829289 0.00820708 0.00815902 0.00751371\n",
      " 0.00754461 0.00729747 0.00759952 0.00835467 0.00821051 0.0097208\n",
      " 0.01137526 0.01169791 0.01135467 0.01238441 0.01284093 0.013524\n",
      " 0.01349997 0.01428601 0.01343132 0.01286153 0.01374711 0.01413498\n",
      " 0.01381233 0.01353773 0.01382949 0.01415557 0.01461553 0.01506175\n",
      " 0.01341072 0.01328715 0.01331805 0.01380203 0.01386725 0.01381233\n",
      " 0.01429974 0.01376427 0.01361667 0.01274139 0.01363384 0.0133558\n",
      " 0.01198281 0.01197938 0.01261439 0.01224368 0.01244963 0.01251828\n",
      " 0.01315329 0.01259036 0.01237411 0.01133407 0.01157091 0.01218533\n",
      " 0.01411095 0.01441301 0.01414871 0.01384322 0.0132494  0.012278\n",
      " 0.01255947 0.0193941  0.01950739 0.01970907]\n",
      "3 day output [[0.02000618]]\n",
      "4 day input [0.00401601 0.00358008 0.00371395 0.00305148 0.00247139 0.00263615\n",
      " 0.00361784 0.00435239 0.00579747 0.00624369 0.00610639 0.00737641\n",
      " 0.00684438 0.00760982 0.0075549  0.00653202 0.00604118 0.00616475\n",
      " 0.00599312 0.00696795 0.00718419 0.00730776 0.00722195 0.00857778\n",
      " 0.00789815 0.00752401 0.0072803  0.00823797 0.00873225 0.00773682\n",
      " 0.00723225 0.00712241 0.00750342 0.00754461 0.00773682 0.00700914\n",
      " 0.00696108 0.00829289 0.00820708 0.00815902 0.00751371 0.00754461\n",
      " 0.00729747 0.00759952 0.00835467 0.00821051 0.0097208  0.01137526\n",
      " 0.01169791 0.01135467 0.01238441 0.01284093 0.013524   0.01349997\n",
      " 0.01428601 0.01343132 0.01286153 0.01374711 0.01413498 0.01381233\n",
      " 0.01353773 0.01382949 0.01415557 0.01461553 0.01506175 0.01341072\n",
      " 0.01328715 0.01331805 0.01380203 0.01386725 0.01381233 0.01429974\n",
      " 0.01376427 0.01361667 0.01274139 0.01363384 0.0133558  0.01198281\n",
      " 0.01197938 0.01261439 0.01224368 0.01244963 0.01251828 0.01315329\n",
      " 0.01259036 0.01237411 0.01133407 0.01157091 0.01218533 0.01411095\n",
      " 0.01441301 0.01414871 0.01384322 0.0132494  0.012278   0.01255947\n",
      " 0.0193941  0.01950739 0.01970907 0.02000618]\n",
      "4 day output [[0.02039086]]\n",
      "5 day input [0.00358008 0.00371395 0.00305148 0.00247139 0.00263615 0.00361784\n",
      " 0.00435239 0.00579747 0.00624369 0.00610639 0.00737641 0.00684438\n",
      " 0.00760982 0.0075549  0.00653202 0.00604118 0.00616475 0.00599312\n",
      " 0.00696795 0.00718419 0.00730776 0.00722195 0.00857778 0.00789815\n",
      " 0.00752401 0.0072803  0.00823797 0.00873225 0.00773682 0.00723225\n",
      " 0.00712241 0.00750342 0.00754461 0.00773682 0.00700914 0.00696108\n",
      " 0.00829289 0.00820708 0.00815902 0.00751371 0.00754461 0.00729747\n",
      " 0.00759952 0.00835467 0.00821051 0.0097208  0.01137526 0.01169791\n",
      " 0.01135467 0.01238441 0.01284093 0.013524   0.01349997 0.01428601\n",
      " 0.01343132 0.01286153 0.01374711 0.01413498 0.01381233 0.01353773\n",
      " 0.01382949 0.01415557 0.01461553 0.01506175 0.01341072 0.01328715\n",
      " 0.01331805 0.01380203 0.01386725 0.01381233 0.01429974 0.01376427\n",
      " 0.01361667 0.01274139 0.01363384 0.0133558  0.01198281 0.01197938\n",
      " 0.01261439 0.01224368 0.01244963 0.01251828 0.01315329 0.01259036\n",
      " 0.01237411 0.01133407 0.01157091 0.01218533 0.01411095 0.01441301\n",
      " 0.01414871 0.01384322 0.0132494  0.012278   0.01255947 0.0193941\n",
      " 0.01950739 0.01970907 0.02000618 0.02039086]\n",
      "5 day output [[0.02084796]]\n",
      "6 day input [0.00371395 0.00305148 0.00247139 0.00263615 0.00361784 0.00435239\n",
      " 0.00579747 0.00624369 0.00610639 0.00737641 0.00684438 0.00760982\n",
      " 0.0075549  0.00653202 0.00604118 0.00616475 0.00599312 0.00696795\n",
      " 0.00718419 0.00730776 0.00722195 0.00857778 0.00789815 0.00752401\n",
      " 0.0072803  0.00823797 0.00873225 0.00773682 0.00723225 0.00712241\n",
      " 0.00750342 0.00754461 0.00773682 0.00700914 0.00696108 0.00829289\n",
      " 0.00820708 0.00815902 0.00751371 0.00754461 0.00729747 0.00759952\n",
      " 0.00835467 0.00821051 0.0097208  0.01137526 0.01169791 0.01135467\n",
      " 0.01238441 0.01284093 0.013524   0.01349997 0.01428601 0.01343132\n",
      " 0.01286153 0.01374711 0.01413498 0.01381233 0.01353773 0.01382949\n",
      " 0.01415557 0.01461553 0.01506175 0.01341072 0.01328715 0.01331805\n",
      " 0.01380203 0.01386725 0.01381233 0.01429974 0.01376427 0.01361667\n",
      " 0.01274139 0.01363384 0.0133558  0.01198281 0.01197938 0.01261439\n",
      " 0.01224368 0.01244963 0.01251828 0.01315329 0.01259036 0.01237411\n",
      " 0.01133407 0.01157091 0.01218533 0.01411095 0.01441301 0.01414871\n",
      " 0.01384322 0.0132494  0.012278   0.01255947 0.0193941  0.01950739\n",
      " 0.01970907 0.02000618 0.02039086 0.02084796]\n",
      "6 day output [[0.0213601]]\n",
      "7 day input [0.00305148 0.00247139 0.00263615 0.00361784 0.00435239 0.00579747\n",
      " 0.00624369 0.00610639 0.00737641 0.00684438 0.00760982 0.0075549\n",
      " 0.00653202 0.00604118 0.00616475 0.00599312 0.00696795 0.00718419\n",
      " 0.00730776 0.00722195 0.00857778 0.00789815 0.00752401 0.0072803\n",
      " 0.00823797 0.00873225 0.00773682 0.00723225 0.00712241 0.00750342\n",
      " 0.00754461 0.00773682 0.00700914 0.00696108 0.00829289 0.00820708\n",
      " 0.00815902 0.00751371 0.00754461 0.00729747 0.00759952 0.00835467\n",
      " 0.00821051 0.0097208  0.01137526 0.01169791 0.01135467 0.01238441\n",
      " 0.01284093 0.013524   0.01349997 0.01428601 0.01343132 0.01286153\n",
      " 0.01374711 0.01413498 0.01381233 0.01353773 0.01382949 0.01415557\n",
      " 0.01461553 0.01506175 0.01341072 0.01328715 0.01331805 0.01380203\n",
      " 0.01386725 0.01381233 0.01429974 0.01376427 0.01361667 0.01274139\n",
      " 0.01363384 0.0133558  0.01198281 0.01197938 0.01261439 0.01224368\n",
      " 0.01244963 0.01251828 0.01315329 0.01259036 0.01237411 0.01133407\n",
      " 0.01157091 0.01218533 0.01411095 0.01441301 0.01414871 0.01384322\n",
      " 0.0132494  0.012278   0.01255947 0.0193941  0.01950739 0.01970907\n",
      " 0.02000618 0.02039086 0.02084796 0.0213601 ]\n",
      "7 day output [[0.02191075]]\n",
      "8 day input [0.00247139 0.00263615 0.00361784 0.00435239 0.00579747 0.00624369\n",
      " 0.00610639 0.00737641 0.00684438 0.00760982 0.0075549  0.00653202\n",
      " 0.00604118 0.00616475 0.00599312 0.00696795 0.00718419 0.00730776\n",
      " 0.00722195 0.00857778 0.00789815 0.00752401 0.0072803  0.00823797\n",
      " 0.00873225 0.00773682 0.00723225 0.00712241 0.00750342 0.00754461\n",
      " 0.00773682 0.00700914 0.00696108 0.00829289 0.00820708 0.00815902\n",
      " 0.00751371 0.00754461 0.00729747 0.00759952 0.00835467 0.00821051\n",
      " 0.0097208  0.01137526 0.01169791 0.01135467 0.01238441 0.01284093\n",
      " 0.013524   0.01349997 0.01428601 0.01343132 0.01286153 0.01374711\n",
      " 0.01413498 0.01381233 0.01353773 0.01382949 0.01415557 0.01461553\n",
      " 0.01506175 0.01341072 0.01328715 0.01331805 0.01380203 0.01386725\n",
      " 0.01381233 0.01429974 0.01376427 0.01361667 0.01274139 0.01363384\n",
      " 0.0133558  0.01198281 0.01197938 0.01261439 0.01224368 0.01244963\n",
      " 0.01251828 0.01315329 0.01259036 0.01237411 0.01133407 0.01157091\n",
      " 0.01218533 0.01411095 0.01441301 0.01414871 0.01384322 0.0132494\n",
      " 0.012278   0.01255947 0.0193941  0.01950739 0.01970907 0.02000618\n",
      " 0.02039086 0.02084796 0.0213601  0.02191075]\n",
      "8 day output [[0.0224858]]\n",
      "9 day input [0.00263615 0.00361784 0.00435239 0.00579747 0.00624369 0.00610639\n",
      " 0.00737641 0.00684438 0.00760982 0.0075549  0.00653202 0.00604118\n",
      " 0.00616475 0.00599312 0.00696795 0.00718419 0.00730776 0.00722195\n",
      " 0.00857778 0.00789815 0.00752401 0.0072803  0.00823797 0.00873225\n",
      " 0.00773682 0.00723225 0.00712241 0.00750342 0.00754461 0.00773682\n",
      " 0.00700914 0.00696108 0.00829289 0.00820708 0.00815902 0.00751371\n",
      " 0.00754461 0.00729747 0.00759952 0.00835467 0.00821051 0.0097208\n",
      " 0.01137526 0.01169791 0.01135467 0.01238441 0.01284093 0.013524\n",
      " 0.01349997 0.01428601 0.01343132 0.01286153 0.01374711 0.01413498\n",
      " 0.01381233 0.01353773 0.01382949 0.01415557 0.01461553 0.01506175\n",
      " 0.01341072 0.01328715 0.01331805 0.01380203 0.01386725 0.01381233\n",
      " 0.01429974 0.01376427 0.01361667 0.01274139 0.01363384 0.0133558\n",
      " 0.01198281 0.01197938 0.01261439 0.01224368 0.01244963 0.01251828\n",
      " 0.01315329 0.01259036 0.01237411 0.01133407 0.01157091 0.01218533\n",
      " 0.01411095 0.01441301 0.01414871 0.01384322 0.0132494  0.012278\n",
      " 0.01255947 0.0193941  0.01950739 0.01970907 0.02000618 0.02039086\n",
      " 0.02084796 0.0213601  0.02191075 0.0224858 ]\n"
     ]
    },
    {
     "name": "stdout",
     "output_type": "stream",
     "text": [
      "9 day output [[0.02307412]]\n",
      "10 day input [0.00361784 0.00435239 0.00579747 0.00624369 0.00610639 0.00737641\n",
      " 0.00684438 0.00760982 0.0075549  0.00653202 0.00604118 0.00616475\n",
      " 0.00599312 0.00696795 0.00718419 0.00730776 0.00722195 0.00857778\n",
      " 0.00789815 0.00752401 0.0072803  0.00823797 0.00873225 0.00773682\n",
      " 0.00723225 0.00712241 0.00750342 0.00754461 0.00773682 0.00700914\n",
      " 0.00696108 0.00829289 0.00820708 0.00815902 0.00751371 0.00754461\n",
      " 0.00729747 0.00759952 0.00835467 0.00821051 0.0097208  0.01137526\n",
      " 0.01169791 0.01135467 0.01238441 0.01284093 0.013524   0.01349997\n",
      " 0.01428601 0.01343132 0.01286153 0.01374711 0.01413498 0.01381233\n",
      " 0.01353773 0.01382949 0.01415557 0.01461553 0.01506175 0.01341072\n",
      " 0.01328715 0.01331805 0.01380203 0.01386725 0.01381233 0.01429974\n",
      " 0.01376427 0.01361667 0.01274139 0.01363384 0.0133558  0.01198281\n",
      " 0.01197938 0.01261439 0.01224368 0.01244963 0.01251828 0.01315329\n",
      " 0.01259036 0.01237411 0.01133407 0.01157091 0.01218533 0.01411095\n",
      " 0.01441301 0.01414871 0.01384322 0.0132494  0.012278   0.01255947\n",
      " 0.0193941  0.01950739 0.01970907 0.02000618 0.02039086 0.02084796\n",
      " 0.0213601  0.02191075 0.0224858  0.02307412]\n",
      "10 day output [[0.02366751]]\n",
      "11 day input [0.00435239 0.00579747 0.00624369 0.00610639 0.00737641 0.00684438\n",
      " 0.00760982 0.0075549  0.00653202 0.00604118 0.00616475 0.00599312\n",
      " 0.00696795 0.00718419 0.00730776 0.00722195 0.00857778 0.00789815\n",
      " 0.00752401 0.0072803  0.00823797 0.00873225 0.00773682 0.00723225\n",
      " 0.00712241 0.00750342 0.00754461 0.00773682 0.00700914 0.00696108\n",
      " 0.00829289 0.00820708 0.00815902 0.00751371 0.00754461 0.00729747\n",
      " 0.00759952 0.00835467 0.00821051 0.0097208  0.01137526 0.01169791\n",
      " 0.01135467 0.01238441 0.01284093 0.013524   0.01349997 0.01428601\n",
      " 0.01343132 0.01286153 0.01374711 0.01413498 0.01381233 0.01353773\n",
      " 0.01382949 0.01415557 0.01461553 0.01506175 0.01341072 0.01328715\n",
      " 0.01331805 0.01380203 0.01386725 0.01381233 0.01429974 0.01376427\n",
      " 0.01361667 0.01274139 0.01363384 0.0133558  0.01198281 0.01197938\n",
      " 0.01261439 0.01224368 0.01244963 0.01251828 0.01315329 0.01259036\n",
      " 0.01237411 0.01133407 0.01157091 0.01218533 0.01411095 0.01441301\n",
      " 0.01414871 0.01384322 0.0132494  0.012278   0.01255947 0.0193941\n",
      " 0.01950739 0.01970907 0.02000618 0.02039086 0.02084796 0.0213601\n",
      " 0.02191075 0.0224858  0.02307412 0.02366751]\n",
      "11 day output [[0.02426032]]\n",
      "12 day input [0.00579747 0.00624369 0.00610639 0.00737641 0.00684438 0.00760982\n",
      " 0.0075549  0.00653202 0.00604118 0.00616475 0.00599312 0.00696795\n",
      " 0.00718419 0.00730776 0.00722195 0.00857778 0.00789815 0.00752401\n",
      " 0.0072803  0.00823797 0.00873225 0.00773682 0.00723225 0.00712241\n",
      " 0.00750342 0.00754461 0.00773682 0.00700914 0.00696108 0.00829289\n",
      " 0.00820708 0.00815902 0.00751371 0.00754461 0.00729747 0.00759952\n",
      " 0.00835467 0.00821051 0.0097208  0.01137526 0.01169791 0.01135467\n",
      " 0.01238441 0.01284093 0.013524   0.01349997 0.01428601 0.01343132\n",
      " 0.01286153 0.01374711 0.01413498 0.01381233 0.01353773 0.01382949\n",
      " 0.01415557 0.01461553 0.01506175 0.01341072 0.01328715 0.01331805\n",
      " 0.01380203 0.01386725 0.01381233 0.01429974 0.01376427 0.01361667\n",
      " 0.01274139 0.01363384 0.0133558  0.01198281 0.01197938 0.01261439\n",
      " 0.01224368 0.01244963 0.01251828 0.01315329 0.01259036 0.01237411\n",
      " 0.01133407 0.01157091 0.01218533 0.01411095 0.01441301 0.01414871\n",
      " 0.01384322 0.0132494  0.012278   0.01255947 0.0193941  0.01950739\n",
      " 0.01970907 0.02000618 0.02039086 0.02084796 0.0213601  0.02191075\n",
      " 0.0224858  0.02307412 0.02366751 0.02426032]\n",
      "12 day output [[0.02484893]]\n",
      "13 day input [0.00624369 0.00610639 0.00737641 0.00684438 0.00760982 0.0075549\n",
      " 0.00653202 0.00604118 0.00616475 0.00599312 0.00696795 0.00718419\n",
      " 0.00730776 0.00722195 0.00857778 0.00789815 0.00752401 0.0072803\n",
      " 0.00823797 0.00873225 0.00773682 0.00723225 0.00712241 0.00750342\n",
      " 0.00754461 0.00773682 0.00700914 0.00696108 0.00829289 0.00820708\n",
      " 0.00815902 0.00751371 0.00754461 0.00729747 0.00759952 0.00835467\n",
      " 0.00821051 0.0097208  0.01137526 0.01169791 0.01135467 0.01238441\n",
      " 0.01284093 0.013524   0.01349997 0.01428601 0.01343132 0.01286153\n",
      " 0.01374711 0.01413498 0.01381233 0.01353773 0.01382949 0.01415557\n",
      " 0.01461553 0.01506175 0.01341072 0.01328715 0.01331805 0.01380203\n",
      " 0.01386725 0.01381233 0.01429974 0.01376427 0.01361667 0.01274139\n",
      " 0.01363384 0.0133558  0.01198281 0.01197938 0.01261439 0.01224368\n",
      " 0.01244963 0.01251828 0.01315329 0.01259036 0.01237411 0.01133407\n",
      " 0.01157091 0.01218533 0.01411095 0.01441301 0.01414871 0.01384322\n",
      " 0.0132494  0.012278   0.01255947 0.0193941  0.01950739 0.01970907\n",
      " 0.02000618 0.02039086 0.02084796 0.0213601  0.02191075 0.0224858\n",
      " 0.02307412 0.02366751 0.02426032 0.02484893]\n",
      "13 day output [[0.02543125]]\n",
      "14 day input [0.00610639 0.00737641 0.00684438 0.00760982 0.0075549  0.00653202\n",
      " 0.00604118 0.00616475 0.00599312 0.00696795 0.00718419 0.00730776\n",
      " 0.00722195 0.00857778 0.00789815 0.00752401 0.0072803  0.00823797\n",
      " 0.00873225 0.00773682 0.00723225 0.00712241 0.00750342 0.00754461\n",
      " 0.00773682 0.00700914 0.00696108 0.00829289 0.00820708 0.00815902\n",
      " 0.00751371 0.00754461 0.00729747 0.00759952 0.00835467 0.00821051\n",
      " 0.0097208  0.01137526 0.01169791 0.01135467 0.01238441 0.01284093\n",
      " 0.013524   0.01349997 0.01428601 0.01343132 0.01286153 0.01374711\n",
      " 0.01413498 0.01381233 0.01353773 0.01382949 0.01415557 0.01461553\n",
      " 0.01506175 0.01341072 0.01328715 0.01331805 0.01380203 0.01386725\n",
      " 0.01381233 0.01429974 0.01376427 0.01361667 0.01274139 0.01363384\n",
      " 0.0133558  0.01198281 0.01197938 0.01261439 0.01224368 0.01244963\n",
      " 0.01251828 0.01315329 0.01259036 0.01237411 0.01133407 0.01157091\n",
      " 0.01218533 0.01411095 0.01441301 0.01414871 0.01384322 0.0132494\n",
      " 0.012278   0.01255947 0.0193941  0.01950739 0.01970907 0.02000618\n",
      " 0.02039086 0.02084796 0.0213601  0.02191075 0.0224858  0.02307412\n",
      " 0.02366751 0.02426032 0.02484893 0.02543125]\n",
      "14 day output [[0.02600625]]\n",
      "15 day input [0.00737641 0.00684438 0.00760982 0.0075549  0.00653202 0.00604118\n",
      " 0.00616475 0.00599312 0.00696795 0.00718419 0.00730776 0.00722195\n",
      " 0.00857778 0.00789815 0.00752401 0.0072803  0.00823797 0.00873225\n",
      " 0.00773682 0.00723225 0.00712241 0.00750342 0.00754461 0.00773682\n",
      " 0.00700914 0.00696108 0.00829289 0.00820708 0.00815902 0.00751371\n",
      " 0.00754461 0.00729747 0.00759952 0.00835467 0.00821051 0.0097208\n",
      " 0.01137526 0.01169791 0.01135467 0.01238441 0.01284093 0.013524\n",
      " 0.01349997 0.01428601 0.01343132 0.01286153 0.01374711 0.01413498\n",
      " 0.01381233 0.01353773 0.01382949 0.01415557 0.01461553 0.01506175\n",
      " 0.01341072 0.01328715 0.01331805 0.01380203 0.01386725 0.01381233\n",
      " 0.01429974 0.01376427 0.01361667 0.01274139 0.01363384 0.0133558\n",
      " 0.01198281 0.01197938 0.01261439 0.01224368 0.01244963 0.01251828\n",
      " 0.01315329 0.01259036 0.01237411 0.01133407 0.01157091 0.01218533\n",
      " 0.01411095 0.01441301 0.01414871 0.01384322 0.0132494  0.012278\n",
      " 0.01255947 0.0193941  0.01950739 0.01970907 0.02000618 0.02039086\n",
      " 0.02084796 0.0213601  0.02191075 0.0224858  0.02307412 0.02366751\n",
      " 0.02426032 0.02484893 0.02543125 0.02600625]\n",
      "15 day output [[0.02657356]]\n",
      "16 day input [0.00684438 0.00760982 0.0075549  0.00653202 0.00604118 0.00616475\n",
      " 0.00599312 0.00696795 0.00718419 0.00730776 0.00722195 0.00857778\n",
      " 0.00789815 0.00752401 0.0072803  0.00823797 0.00873225 0.00773682\n",
      " 0.00723225 0.00712241 0.00750342 0.00754461 0.00773682 0.00700914\n",
      " 0.00696108 0.00829289 0.00820708 0.00815902 0.00751371 0.00754461\n",
      " 0.00729747 0.00759952 0.00835467 0.00821051 0.0097208  0.01137526\n",
      " 0.01169791 0.01135467 0.01238441 0.01284093 0.013524   0.01349997\n",
      " 0.01428601 0.01343132 0.01286153 0.01374711 0.01413498 0.01381233\n",
      " 0.01353773 0.01382949 0.01415557 0.01461553 0.01506175 0.01341072\n",
      " 0.01328715 0.01331805 0.01380203 0.01386725 0.01381233 0.01429974\n",
      " 0.01376427 0.01361667 0.01274139 0.01363384 0.0133558  0.01198281\n",
      " 0.01197938 0.01261439 0.01224368 0.01244963 0.01251828 0.01315329\n",
      " 0.01259036 0.01237411 0.01133407 0.01157091 0.01218533 0.01411095\n",
      " 0.01441301 0.01414871 0.01384322 0.0132494  0.012278   0.01255947\n",
      " 0.0193941  0.01950739 0.01970907 0.02000618 0.02039086 0.02084796\n",
      " 0.0213601  0.02191075 0.0224858  0.02307412 0.02366751 0.02426032\n",
      " 0.02484893 0.02543125 0.02600625 0.02657356]\n",
      "16 day output [[0.02713327]]\n",
      "17 day input [0.00760982 0.0075549  0.00653202 0.00604118 0.00616475 0.00599312\n",
      " 0.00696795 0.00718419 0.00730776 0.00722195 0.00857778 0.00789815\n",
      " 0.00752401 0.0072803  0.00823797 0.00873225 0.00773682 0.00723225\n",
      " 0.00712241 0.00750342 0.00754461 0.00773682 0.00700914 0.00696108\n",
      " 0.00829289 0.00820708 0.00815902 0.00751371 0.00754461 0.00729747\n",
      " 0.00759952 0.00835467 0.00821051 0.0097208  0.01137526 0.01169791\n",
      " 0.01135467 0.01238441 0.01284093 0.013524   0.01349997 0.01428601\n",
      " 0.01343132 0.01286153 0.01374711 0.01413498 0.01381233 0.01353773\n",
      " 0.01382949 0.01415557 0.01461553 0.01506175 0.01341072 0.01328715\n",
      " 0.01331805 0.01380203 0.01386725 0.01381233 0.01429974 0.01376427\n",
      " 0.01361667 0.01274139 0.01363384 0.0133558  0.01198281 0.01197938\n",
      " 0.01261439 0.01224368 0.01244963 0.01251828 0.01315329 0.01259036\n",
      " 0.01237411 0.01133407 0.01157091 0.01218533 0.01411095 0.01441301\n",
      " 0.01414871 0.01384322 0.0132494  0.012278   0.01255947 0.0193941\n",
      " 0.01950739 0.01970907 0.02000618 0.02039086 0.02084796 0.0213601\n",
      " 0.02191075 0.0224858  0.02307412 0.02366751 0.02426032 0.02484893\n",
      " 0.02543125 0.02600625 0.02657356 0.02713327]\n"
     ]
    },
    {
     "name": "stdout",
     "output_type": "stream",
     "text": [
      "17 day output [[0.02768564]]\n",
      "18 day input [0.0075549  0.00653202 0.00604118 0.00616475 0.00599312 0.00696795\n",
      " 0.00718419 0.00730776 0.00722195 0.00857778 0.00789815 0.00752401\n",
      " 0.0072803  0.00823797 0.00873225 0.00773682 0.00723225 0.00712241\n",
      " 0.00750342 0.00754461 0.00773682 0.00700914 0.00696108 0.00829289\n",
      " 0.00820708 0.00815902 0.00751371 0.00754461 0.00729747 0.00759952\n",
      " 0.00835467 0.00821051 0.0097208  0.01137526 0.01169791 0.01135467\n",
      " 0.01238441 0.01284093 0.013524   0.01349997 0.01428601 0.01343132\n",
      " 0.01286153 0.01374711 0.01413498 0.01381233 0.01353773 0.01382949\n",
      " 0.01415557 0.01461553 0.01506175 0.01341072 0.01328715 0.01331805\n",
      " 0.01380203 0.01386725 0.01381233 0.01429974 0.01376427 0.01361667\n",
      " 0.01274139 0.01363384 0.0133558  0.01198281 0.01197938 0.01261439\n",
      " 0.01224368 0.01244963 0.01251828 0.01315329 0.01259036 0.01237411\n",
      " 0.01133407 0.01157091 0.01218533 0.01411095 0.01441301 0.01414871\n",
      " 0.01384322 0.0132494  0.012278   0.01255947 0.0193941  0.01950739\n",
      " 0.01970907 0.02000618 0.02039086 0.02084796 0.0213601  0.02191075\n",
      " 0.0224858  0.02307412 0.02366751 0.02426032 0.02484893 0.02543125\n",
      " 0.02600625 0.02657356 0.02713327 0.02768564]\n",
      "18 day output [[0.02823102]]\n",
      "19 day input [0.00653202 0.00604118 0.00616475 0.00599312 0.00696795 0.00718419\n",
      " 0.00730776 0.00722195 0.00857778 0.00789815 0.00752401 0.0072803\n",
      " 0.00823797 0.00873225 0.00773682 0.00723225 0.00712241 0.00750342\n",
      " 0.00754461 0.00773682 0.00700914 0.00696108 0.00829289 0.00820708\n",
      " 0.00815902 0.00751371 0.00754461 0.00729747 0.00759952 0.00835467\n",
      " 0.00821051 0.0097208  0.01137526 0.01169791 0.01135467 0.01238441\n",
      " 0.01284093 0.013524   0.01349997 0.01428601 0.01343132 0.01286153\n",
      " 0.01374711 0.01413498 0.01381233 0.01353773 0.01382949 0.01415557\n",
      " 0.01461553 0.01506175 0.01341072 0.01328715 0.01331805 0.01380203\n",
      " 0.01386725 0.01381233 0.01429974 0.01376427 0.01361667 0.01274139\n",
      " 0.01363384 0.0133558  0.01198281 0.01197938 0.01261439 0.01224368\n",
      " 0.01244963 0.01251828 0.01315329 0.01259036 0.01237411 0.01133407\n",
      " 0.01157091 0.01218533 0.01411095 0.01441301 0.01414871 0.01384322\n",
      " 0.0132494  0.012278   0.01255947 0.0193941  0.01950739 0.01970907\n",
      " 0.02000618 0.02039086 0.02084796 0.0213601  0.02191075 0.0224858\n",
      " 0.02307412 0.02366751 0.02426032 0.02484893 0.02543125 0.02600625\n",
      " 0.02657356 0.02713327 0.02768564 0.02823102]\n",
      "19 day output [[0.02876979]]\n",
      "20 day input [0.00604118 0.00616475 0.00599312 0.00696795 0.00718419 0.00730776\n",
      " 0.00722195 0.00857778 0.00789815 0.00752401 0.0072803  0.00823797\n",
      " 0.00873225 0.00773682 0.00723225 0.00712241 0.00750342 0.00754461\n",
      " 0.00773682 0.00700914 0.00696108 0.00829289 0.00820708 0.00815902\n",
      " 0.00751371 0.00754461 0.00729747 0.00759952 0.00835467 0.00821051\n",
      " 0.0097208  0.01137526 0.01169791 0.01135467 0.01238441 0.01284093\n",
      " 0.013524   0.01349997 0.01428601 0.01343132 0.01286153 0.01374711\n",
      " 0.01413498 0.01381233 0.01353773 0.01382949 0.01415557 0.01461553\n",
      " 0.01506175 0.01341072 0.01328715 0.01331805 0.01380203 0.01386725\n",
      " 0.01381233 0.01429974 0.01376427 0.01361667 0.01274139 0.01363384\n",
      " 0.0133558  0.01198281 0.01197938 0.01261439 0.01224368 0.01244963\n",
      " 0.01251828 0.01315329 0.01259036 0.01237411 0.01133407 0.01157091\n",
      " 0.01218533 0.01411095 0.01441301 0.01414871 0.01384322 0.0132494\n",
      " 0.012278   0.01255947 0.0193941  0.01950739 0.01970907 0.02000618\n",
      " 0.02039086 0.02084796 0.0213601  0.02191075 0.0224858  0.02307412\n",
      " 0.02366751 0.02426032 0.02484893 0.02543125 0.02600625 0.02657356\n",
      " 0.02713327 0.02768564 0.02823102 0.02876979]\n",
      "20 day output [[0.02930229]]\n",
      "21 day input [0.00616475 0.00599312 0.00696795 0.00718419 0.00730776 0.00722195\n",
      " 0.00857778 0.00789815 0.00752401 0.0072803  0.00823797 0.00873225\n",
      " 0.00773682 0.00723225 0.00712241 0.00750342 0.00754461 0.00773682\n",
      " 0.00700914 0.00696108 0.00829289 0.00820708 0.00815902 0.00751371\n",
      " 0.00754461 0.00729747 0.00759952 0.00835467 0.00821051 0.0097208\n",
      " 0.01137526 0.01169791 0.01135467 0.01238441 0.01284093 0.013524\n",
      " 0.01349997 0.01428601 0.01343132 0.01286153 0.01374711 0.01413498\n",
      " 0.01381233 0.01353773 0.01382949 0.01415557 0.01461553 0.01506175\n",
      " 0.01341072 0.01328715 0.01331805 0.01380203 0.01386725 0.01381233\n",
      " 0.01429974 0.01376427 0.01361667 0.01274139 0.01363384 0.0133558\n",
      " 0.01198281 0.01197938 0.01261439 0.01224368 0.01244963 0.01251828\n",
      " 0.01315329 0.01259036 0.01237411 0.01133407 0.01157091 0.01218533\n",
      " 0.01411095 0.01441301 0.01414871 0.01384322 0.0132494  0.012278\n",
      " 0.01255947 0.0193941  0.01950739 0.01970907 0.02000618 0.02039086\n",
      " 0.02084796 0.0213601  0.02191075 0.0224858  0.02307412 0.02366751\n",
      " 0.02426032 0.02484893 0.02543125 0.02600625 0.02657356 0.02713327\n",
      " 0.02768564 0.02823102 0.02876979 0.02930229]\n",
      "21 day output [[0.02982879]]\n",
      "22 day input [0.00599312 0.00696795 0.00718419 0.00730776 0.00722195 0.00857778\n",
      " 0.00789815 0.00752401 0.0072803  0.00823797 0.00873225 0.00773682\n",
      " 0.00723225 0.00712241 0.00750342 0.00754461 0.00773682 0.00700914\n",
      " 0.00696108 0.00829289 0.00820708 0.00815902 0.00751371 0.00754461\n",
      " 0.00729747 0.00759952 0.00835467 0.00821051 0.0097208  0.01137526\n",
      " 0.01169791 0.01135467 0.01238441 0.01284093 0.013524   0.01349997\n",
      " 0.01428601 0.01343132 0.01286153 0.01374711 0.01413498 0.01381233\n",
      " 0.01353773 0.01382949 0.01415557 0.01461553 0.01506175 0.01341072\n",
      " 0.01328715 0.01331805 0.01380203 0.01386725 0.01381233 0.01429974\n",
      " 0.01376427 0.01361667 0.01274139 0.01363384 0.0133558  0.01198281\n",
      " 0.01197938 0.01261439 0.01224368 0.01244963 0.01251828 0.01315329\n",
      " 0.01259036 0.01237411 0.01133407 0.01157091 0.01218533 0.01411095\n",
      " 0.01441301 0.01414871 0.01384322 0.0132494  0.012278   0.01255947\n",
      " 0.0193941  0.01950739 0.01970907 0.02000618 0.02039086 0.02084796\n",
      " 0.0213601  0.02191075 0.0224858  0.02307412 0.02366751 0.02426032\n",
      " 0.02484893 0.02543125 0.02600625 0.02657356 0.02713327 0.02768564\n",
      " 0.02823102 0.02876979 0.02930229 0.02982879]\n",
      "22 day output [[0.03034952]]\n",
      "23 day input [0.00696795 0.00718419 0.00730776 0.00722195 0.00857778 0.00789815\n",
      " 0.00752401 0.0072803  0.00823797 0.00873225 0.00773682 0.00723225\n",
      " 0.00712241 0.00750342 0.00754461 0.00773682 0.00700914 0.00696108\n",
      " 0.00829289 0.00820708 0.00815902 0.00751371 0.00754461 0.00729747\n",
      " 0.00759952 0.00835467 0.00821051 0.0097208  0.01137526 0.01169791\n",
      " 0.01135467 0.01238441 0.01284093 0.013524   0.01349997 0.01428601\n",
      " 0.01343132 0.01286153 0.01374711 0.01413498 0.01381233 0.01353773\n",
      " 0.01382949 0.01415557 0.01461553 0.01506175 0.01341072 0.01328715\n",
      " 0.01331805 0.01380203 0.01386725 0.01381233 0.01429974 0.01376427\n",
      " 0.01361667 0.01274139 0.01363384 0.0133558  0.01198281 0.01197938\n",
      " 0.01261439 0.01224368 0.01244963 0.01251828 0.01315329 0.01259036\n",
      " 0.01237411 0.01133407 0.01157091 0.01218533 0.01411095 0.01441301\n",
      " 0.01414871 0.01384322 0.0132494  0.012278   0.01255947 0.0193941\n",
      " 0.01950739 0.01970907 0.02000618 0.02039086 0.02084796 0.0213601\n",
      " 0.02191075 0.0224858  0.02307412 0.02366751 0.02426032 0.02484893\n",
      " 0.02543125 0.02600625 0.02657356 0.02713327 0.02768564 0.02823102\n",
      " 0.02876979 0.02930229 0.02982879 0.03034952]\n",
      "23 day output [[0.03086467]]\n",
      "24 day input [0.00718419 0.00730776 0.00722195 0.00857778 0.00789815 0.00752401\n",
      " 0.0072803  0.00823797 0.00873225 0.00773682 0.00723225 0.00712241\n",
      " 0.00750342 0.00754461 0.00773682 0.00700914 0.00696108 0.00829289\n",
      " 0.00820708 0.00815902 0.00751371 0.00754461 0.00729747 0.00759952\n",
      " 0.00835467 0.00821051 0.0097208  0.01137526 0.01169791 0.01135467\n",
      " 0.01238441 0.01284093 0.013524   0.01349997 0.01428601 0.01343132\n",
      " 0.01286153 0.01374711 0.01413498 0.01381233 0.01353773 0.01382949\n",
      " 0.01415557 0.01461553 0.01506175 0.01341072 0.01328715 0.01331805\n",
      " 0.01380203 0.01386725 0.01381233 0.01429974 0.01376427 0.01361667\n",
      " 0.01274139 0.01363384 0.0133558  0.01198281 0.01197938 0.01261439\n",
      " 0.01224368 0.01244963 0.01251828 0.01315329 0.01259036 0.01237411\n",
      " 0.01133407 0.01157091 0.01218533 0.01411095 0.01441301 0.01414871\n",
      " 0.01384322 0.0132494  0.012278   0.01255947 0.0193941  0.01950739\n",
      " 0.01970907 0.02000618 0.02039086 0.02084796 0.0213601  0.02191075\n",
      " 0.0224858  0.02307412 0.02366751 0.02426032 0.02484893 0.02543125\n",
      " 0.02600625 0.02657356 0.02713327 0.02768564 0.02823102 0.02876979\n",
      " 0.02930229 0.02982879 0.03034952 0.03086467]\n",
      "24 day output [[0.0313744]]\n",
      "25 day input [0.00730776 0.00722195 0.00857778 0.00789815 0.00752401 0.0072803\n",
      " 0.00823797 0.00873225 0.00773682 0.00723225 0.00712241 0.00750342\n",
      " 0.00754461 0.00773682 0.00700914 0.00696108 0.00829289 0.00820708\n",
      " 0.00815902 0.00751371 0.00754461 0.00729747 0.00759952 0.00835467\n",
      " 0.00821051 0.0097208  0.01137526 0.01169791 0.01135467 0.01238441\n",
      " 0.01284093 0.013524   0.01349997 0.01428601 0.01343132 0.01286153\n",
      " 0.01374711 0.01413498 0.01381233 0.01353773 0.01382949 0.01415557\n",
      " 0.01461553 0.01506175 0.01341072 0.01328715 0.01331805 0.01380203\n",
      " 0.01386725 0.01381233 0.01429974 0.01376427 0.01361667 0.01274139\n",
      " 0.01363384 0.0133558  0.01198281 0.01197938 0.01261439 0.01224368\n",
      " 0.01244963 0.01251828 0.01315329 0.01259036 0.01237411 0.01133407\n",
      " 0.01157091 0.01218533 0.01411095 0.01441301 0.01414871 0.01384322\n",
      " 0.0132494  0.012278   0.01255947 0.0193941  0.01950739 0.01970907\n",
      " 0.02000618 0.02039086 0.02084796 0.0213601  0.02191075 0.0224858\n",
      " 0.02307412 0.02366751 0.02426032 0.02484893 0.02543125 0.02600625\n",
      " 0.02657356 0.02713327 0.02768564 0.02823102 0.02876979 0.02930229\n",
      " 0.02982879 0.03034952 0.03086467 0.0313744 ]\n"
     ]
    },
    {
     "name": "stdout",
     "output_type": "stream",
     "text": [
      "25 day output [[0.0318788]]\n",
      "26 day input [0.00722195 0.00857778 0.00789815 0.00752401 0.0072803  0.00823797\n",
      " 0.00873225 0.00773682 0.00723225 0.00712241 0.00750342 0.00754461\n",
      " 0.00773682 0.00700914 0.00696108 0.00829289 0.00820708 0.00815902\n",
      " 0.00751371 0.00754461 0.00729747 0.00759952 0.00835467 0.00821051\n",
      " 0.0097208  0.01137526 0.01169791 0.01135467 0.01238441 0.01284093\n",
      " 0.013524   0.01349997 0.01428601 0.01343132 0.01286153 0.01374711\n",
      " 0.01413498 0.01381233 0.01353773 0.01382949 0.01415557 0.01461553\n",
      " 0.01506175 0.01341072 0.01328715 0.01331805 0.01380203 0.01386725\n",
      " 0.01381233 0.01429974 0.01376427 0.01361667 0.01274139 0.01363384\n",
      " 0.0133558  0.01198281 0.01197938 0.01261439 0.01224368 0.01244963\n",
      " 0.01251828 0.01315329 0.01259036 0.01237411 0.01133407 0.01157091\n",
      " 0.01218533 0.01411095 0.01441301 0.01414871 0.01384322 0.0132494\n",
      " 0.012278   0.01255947 0.0193941  0.01950739 0.01970907 0.02000618\n",
      " 0.02039086 0.02084796 0.0213601  0.02191075 0.0224858  0.02307412\n",
      " 0.02366751 0.02426032 0.02484893 0.02543125 0.02600625 0.02657356\n",
      " 0.02713327 0.02768564 0.02823102 0.02876979 0.02930229 0.02982879\n",
      " 0.03034952 0.03086467 0.0313744  0.0318788 ]\n",
      "26 day output [[0.03237797]]\n",
      "27 day input [0.00857778 0.00789815 0.00752401 0.0072803  0.00823797 0.00873225\n",
      " 0.00773682 0.00723225 0.00712241 0.00750342 0.00754461 0.00773682\n",
      " 0.00700914 0.00696108 0.00829289 0.00820708 0.00815902 0.00751371\n",
      " 0.00754461 0.00729747 0.00759952 0.00835467 0.00821051 0.0097208\n",
      " 0.01137526 0.01169791 0.01135467 0.01238441 0.01284093 0.013524\n",
      " 0.01349997 0.01428601 0.01343132 0.01286153 0.01374711 0.01413498\n",
      " 0.01381233 0.01353773 0.01382949 0.01415557 0.01461553 0.01506175\n",
      " 0.01341072 0.01328715 0.01331805 0.01380203 0.01386725 0.01381233\n",
      " 0.01429974 0.01376427 0.01361667 0.01274139 0.01363384 0.0133558\n",
      " 0.01198281 0.01197938 0.01261439 0.01224368 0.01244963 0.01251828\n",
      " 0.01315329 0.01259036 0.01237411 0.01133407 0.01157091 0.01218533\n",
      " 0.01411095 0.01441301 0.01414871 0.01384322 0.0132494  0.012278\n",
      " 0.01255947 0.0193941  0.01950739 0.01970907 0.02000618 0.02039086\n",
      " 0.02084796 0.0213601  0.02191075 0.0224858  0.02307412 0.02366751\n",
      " 0.02426032 0.02484893 0.02543125 0.02600625 0.02657356 0.02713327\n",
      " 0.02768564 0.02823102 0.02876979 0.02930229 0.02982879 0.03034952\n",
      " 0.03086467 0.0313744  0.0318788  0.03237797]\n",
      "27 day output [[0.032872]]\n",
      "28 day input [0.00789815 0.00752401 0.0072803  0.00823797 0.00873225 0.00773682\n",
      " 0.00723225 0.00712241 0.00750342 0.00754461 0.00773682 0.00700914\n",
      " 0.00696108 0.00829289 0.00820708 0.00815902 0.00751371 0.00754461\n",
      " 0.00729747 0.00759952 0.00835467 0.00821051 0.0097208  0.01137526\n",
      " 0.01169791 0.01135467 0.01238441 0.01284093 0.013524   0.01349997\n",
      " 0.01428601 0.01343132 0.01286153 0.01374711 0.01413498 0.01381233\n",
      " 0.01353773 0.01382949 0.01415557 0.01461553 0.01506175 0.01341072\n",
      " 0.01328715 0.01331805 0.01380203 0.01386725 0.01381233 0.01429974\n",
      " 0.01376427 0.01361667 0.01274139 0.01363384 0.0133558  0.01198281\n",
      " 0.01197938 0.01261439 0.01224368 0.01244963 0.01251828 0.01315329\n",
      " 0.01259036 0.01237411 0.01133407 0.01157091 0.01218533 0.01411095\n",
      " 0.01441301 0.01414871 0.01384322 0.0132494  0.012278   0.01255947\n",
      " 0.0193941  0.01950739 0.01970907 0.02000618 0.02039086 0.02084796\n",
      " 0.0213601  0.02191075 0.0224858  0.02307412 0.02366751 0.02426032\n",
      " 0.02484893 0.02543125 0.02600625 0.02657356 0.02713327 0.02768564\n",
      " 0.02823102 0.02876979 0.02930229 0.02982879 0.03034952 0.03086467\n",
      " 0.0313744  0.0318788  0.03237797 0.032872  ]\n",
      "28 day output [[0.03336096]]\n",
      "29 day input [0.00752401 0.0072803  0.00823797 0.00873225 0.00773682 0.00723225\n",
      " 0.00712241 0.00750342 0.00754461 0.00773682 0.00700914 0.00696108\n",
      " 0.00829289 0.00820708 0.00815902 0.00751371 0.00754461 0.00729747\n",
      " 0.00759952 0.00835467 0.00821051 0.0097208  0.01137526 0.01169791\n",
      " 0.01135467 0.01238441 0.01284093 0.013524   0.01349997 0.01428601\n",
      " 0.01343132 0.01286153 0.01374711 0.01413498 0.01381233 0.01353773\n",
      " 0.01382949 0.01415557 0.01461553 0.01506175 0.01341072 0.01328715\n",
      " 0.01331805 0.01380203 0.01386725 0.01381233 0.01429974 0.01376427\n",
      " 0.01361667 0.01274139 0.01363384 0.0133558  0.01198281 0.01197938\n",
      " 0.01261439 0.01224368 0.01244963 0.01251828 0.01315329 0.01259036\n",
      " 0.01237411 0.01133407 0.01157091 0.01218533 0.01411095 0.01441301\n",
      " 0.01414871 0.01384322 0.0132494  0.012278   0.01255947 0.0193941\n",
      " 0.01950739 0.01970907 0.02000618 0.02039086 0.02084796 0.0213601\n",
      " 0.02191075 0.0224858  0.02307412 0.02366751 0.02426032 0.02484893\n",
      " 0.02543125 0.02600625 0.02657356 0.02713327 0.02768564 0.02823102\n",
      " 0.02876979 0.02930229 0.02982879 0.03034952 0.03086467 0.0313744\n",
      " 0.0318788  0.03237797 0.032872   0.03336096]\n",
      "29 day output [[0.03384491]]\n",
      "[[0.019394103437662125], [0.01950738951563835], [0.01970907300710678], [0.02000618167221546], [0.020390860736370087], [0.02084796130657196], [0.02136009931564331], [0.02191074937582016], [0.022485796362161636], [0.023074116557836533], [0.023667506873607635], [0.02426031604409218], [0.024848930537700653], [0.025431253015995026], [0.026006247848272324], [0.02657356485724449], [0.027133271098136902], [0.027685638517141342], [0.028231021016836166], [0.02876979485154152], [0.029302291572093964], [0.029828786849975586], [0.030349522829055786], [0.030864674597978592], [0.03137439861893654], [0.031878795474767685], [0.032377973198890686], [0.03287200257182121], [0.033360958099365234], [0.03384491056203842]]\n"
     ]
    }
   ],
   "source": [
    "from numpy import array\n",
    "\n",
    "lst_output=[]\n",
    "n_steps=100\n",
    "i=0\n",
    "while(i<30):\n",
    "    \n",
    "    if(len(temp_input)>100):\n",
    "        #print(temp_input)\n",
    "        xinput=np.array(temp_input[1:])\n",
    "        print(\"{} day input {}\".format(i,xinput))\n",
    "        xinput=xinput.reshape(1,-1)\n",
    "        xinput = xinput.reshape((1, n_steps, 1))\n",
    "        #print(x_input)\n",
    "        yhat = model.predict(xinput, verbose=0)\n",
    "        print(\"{} day output {}\".format(i,yhat))\n",
    "        temp_input.extend(yhat[0].tolist())\n",
    "        temp_input=temp_input[1:]\n",
    "        #print(temp_input)\n",
    "        lst_output.extend(yhat.tolist())\n",
    "        i=i+1\n",
    "    else:\n",
    "        xinput = xinput.reshape((1, n_steps,1))\n",
    "        yhat = model.predict(xinput, verbose=0)\n",
    "        print(yhat[0])\n",
    "        temp_input.extend(yhat[0].tolist())\n",
    "        print(len(temp_input))\n",
    "        lst_output.extend(yhat.tolist())\n",
    "        i=i+1\n",
    "    \n",
    "\n",
    "print(lst_output)"
   ]
  },
  {
   "cell_type": "code",
   "execution_count": 67,
   "id": "bc74c9a0",
   "metadata": {},
   "outputs": [
    {
     "data": {
      "text/plain": [
       "[<matplotlib.lines.Line2D at 0x219b8129130>]"
      ]
     },
     "execution_count": 67,
     "metadata": {},
     "output_type": "execute_result"
    },
    {
     "data": {
      "image/png": "[encoded data removed]",
      "text/plain": [
       "<Figure size 640x480 with 1 Axes>"
      ]
     },
     "metadata": {},
     "output_type": "display_data"
    }
   ],
   "source": [
    "day_new=np.arange(1,101)\n",
    "day_pred=np.arange(101,131)\n",
    "import matplotlib.pyplot as plt\n",
    "plt.plot(day_new,scaler.inverse_transform(df4[1158:]))\n",
    "plt.plot(day_pred,scaler.inverse_transform(lst_output))"
   ]
  },
  {
   "cell_type": "code",
   "execution_count": 68,
   "id": "c990d25a",
   "metadata": {},
   "outputs": [
    {
     "data": {
      "text/plain": [
       "[<matplotlib.lines.Line2D at 0x219b80fe040>]"
      ]
     },
     "execution_count": 68,
     "metadata": {},
     "output_type": "execute_result"
    },
    {
     "data": {
      "image/png": "[encoded data removed]",
      "text/plain": [
       "<Figure size 640x480 with 1 Axes>"
      ]
     },
     "metadata": {},
     "output_type": "display_data"
    }
   ],
   "source": [
    "df5=df4.tolist()\n",
    "df5.extend(lst_output)\n",
    "plt.plot(df5[1200:])"
   ]
  },
  {
   "cell_type": "code",
   "execution_count": null,
   "id": "e23857ee",
   "metadata": {},
   "outputs": [],
   "source": []
  }
 ],
 "metadata": {
  "kernelspec": {
   "display_name": "Python 3 (ipykernel)",
   "language": "python",
   "name": "python3"
  },
  "language_info": {
   "codemirror_mode": {
    "name": "ipython",
    "version": 3
   },
   "file_extension": ".py",
   "mimetype": "text/x-python",
   "name": "python",
   "nbconvert_exporter": "python",
   "pygments_lexer": "ipython3",
   "version": "3.9.13"
  }
 },
 "nbformat": 4,
 "nbformat_minor": 5
}
