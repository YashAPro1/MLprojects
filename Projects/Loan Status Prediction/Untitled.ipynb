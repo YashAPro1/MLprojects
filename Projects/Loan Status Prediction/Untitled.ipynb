{
 "cells": [
  {
   "cell_type": "code",
   "execution_count": 12,
   "id": "934170e2",
   "metadata": {},
   "outputs": [
    {
     "name": "stdout",
     "output_type": "stream",
     "text": [
      "1/1 [==============================] - 0s 62ms/step\n",
      "[[0.00070672]]\n"
     ]
    }
   ],
   "source": [
    "import pickle\n",
    "import joblib\n",
    "import pandas as pd\n",
    "from sklearn.preprocessing import MinMaxScaler\n",
    "import numpy as np\n",
    "scaler = MinMaxScaler()\n",
    "model = joblib.load('loan_model.pkl')\n",
    "x = (1,500000,25000,5000,360,1,0,1,0,1,1,0,1,0,1,0,0)\n",
    "x = np.array(list(x))\n",
    "x = x.reshape(1,-1)\n",
    "x = x.reshape(1,-1)\n",
    "x = scaler.fit_transform(x)\n",
    "y_pred = model.predict(x)\n",
    "print(y_pred)\n",
    "y_pred = (y_pred>0.58)"
   ]
  },
  {
   "cell_type": "code",
   "execution_count": null,
   "id": "7d63df38",
   "metadata": {},
   "outputs": [],
   "source": []
  }
 ],
 "metadata": {
  "kernelspec": {
   "display_name": "Python 3 (ipykernel)",
   "language": "python",
   "name": "python3"
  },
  "language_info": {
   "codemirror_mode": {
    "name": "ipython",
    "version": 3
   },
   "file_extension": ".py",
   "mimetype": "text/x-python",
   "name": "python",
   "nbconvert_exporter": "python",
   "pygments_lexer": "ipython3",
   "version": "3.9.13"
  }
 },
 "nbformat": 4,
 "nbformat_minor": 5
}
